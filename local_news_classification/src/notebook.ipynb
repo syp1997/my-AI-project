{
 "cells": [
  {
   "cell_type": "code",
   "execution_count": 1,
   "metadata": {},
   "outputs": [],
   "source": [
    "import torch\n",
    "import numpy as np\n",
    "from transformers import BertTokenizer\n",
    "from wikipedia2vec import Wikipedia2Vec\n",
    "import time\n",
    "import csv\n",
    "import warnings\n",
    "import logging"
   ]
  },
  {
   "cell_type": "code",
   "execution_count": 2,
   "metadata": {},
   "outputs": [],
   "source": [
    "from utils import *\n",
    "from data_processor import DataProcess"
   ]
  },
  {
   "cell_type": "code",
   "execution_count": 3,
   "metadata": {},
   "outputs": [],
   "source": [
    "warnings.filterwarnings('ignore')\n",
    "logging.basicConfig(\n",
    "        format=\"%(asctime)s - %(message)s\",\n",
    "        datefmt=\"%m/%d/%Y %H:%M:%S\",\n",
    "        level=logging.INFO,\n",
    ")\n",
    "logger = logging.getLogger(__name__)"
   ]
  },
  {
   "cell_type": "code",
   "execution_count": 4,
   "metadata": {},
   "outputs": [],
   "source": [
    "set_seed(42)"
   ]
  },
  {
   "cell_type": "code",
   "execution_count": 5,
   "metadata": {},
   "outputs": [],
   "source": [
    "# use pretrained bert model and tokenizer\n",
    "model_name = 'bert-base-uncased'\n",
    "tokenizer = BertTokenizer.from_pretrained(model_name)"
   ]
  },
  {
   "cell_type": "code",
   "execution_count": 6,
   "metadata": {},
   "outputs": [],
   "source": [
    "# use pretrained wiki_vector model\n",
    "model_file = '/data/suyinpei/wiki_vector.model'\n",
    "wiki2vec = Wikipedia2Vec.load(model_file)"
   ]
  },
  {
   "cell_type": "markdown",
   "metadata": {},
   "source": [
    "## Data process"
   ]
  },
  {
   "cell_type": "code",
   "execution_count": 7,
   "metadata": {},
   "outputs": [],
   "source": [
    "batch_size = 32 # batch size\n",
    "en_pad_size = 12 # max entity number of one data\n",
    "en_embd_dim = 100 # entity embedding dim\n",
    "idf_file = '/data/suyinpei/idf_bigram5.txt'\n",
    "entity_frep_file = '/data/suyinpei/entity_frep.tsv'\n",
    "domain_frep_file = '/data/suyinpei/domain_frep.tsv'\n",
    "data_root = \"/data/suyinpei/all_data_1106.tsv\" # data: docid, text, entities, label\n",
    "text_id_root = \"/data/suyinpei/text_ids_1028.pt\" # data_size * 512\n",
    "labels_root = \"/data/suyinpei/labels_1028.pt\" # data_size\n",
    "entity_id_root = \"/data/suyinpei/entity_ids_1028.pt\" # data_size * 12\n",
    "entity_length_root = \"/data/suyinpei/entity_length_1028.pt\" # data_size\n",
    "entity_vector_root = \"/data/suyinpei/entity_vectors_1028.pt\" # en_vocab_size * 100\n",
    "entity_score_root = \"/data/suyinpei/entity_score_1106.pt\" # data_size\n",
    "domain_score_root = \"/data/suyinpei/domain_score_1106.pt\" # data_size"
   ]
  },
  {
   "cell_type": "code",
   "execution_count": 8,
   "metadata": {},
   "outputs": [],
   "source": [
    "processor = DataProcess(data_root, text_id_root, labels_root, \n",
    "                        entity_id_root, entity_length_root, \n",
    "                        entity_score_root, domain_score_root)"
   ]
  },
  {
   "cell_type": "code",
   "execution_count": 9,
   "metadata": {},
   "outputs": [],
   "source": [
    "# # run this when using new data, build text index and label\n",
    "# all_input_ids, labels = processor.encode_text(tokenizer)"
   ]
  },
  {
   "cell_type": "code",
   "execution_count": 10,
   "metadata": {},
   "outputs": [],
   "source": [
    "# # run this when use new data, build entity vector and index\n",
    "# entity_to_index, index_to_entity = processor.build_entity_vocab()\n",
    "# idf_dict, unk_idf = processor.load_idf(idf_file)\n",
    "# build_entity_vector = processor.build_entity_vector(entity_to_index, index_to_entity, \n",
    "#                                                     wiki2vec, idf_dict, unk_idf, \n",
    "#                                                     en_embd_dim, entity_vector_root)\n",
    "# all_entity_ids, all_entity_length = processor.build_entity_id(entity_to_index, \n",
    "#                                                               index_to_entity, \n",
    "#                                                               en_pad_size)"
   ]
  },
  {
   "cell_type": "code",
   "execution_count": 11,
   "metadata": {},
   "outputs": [],
   "source": [
    "# # run this when use new data, build entity score\n",
    "# entity_score = processor.build_entity_score(entity_frep_file)"
   ]
  },
  {
   "cell_type": "code",
   "execution_count": 12,
   "metadata": {},
   "outputs": [],
   "source": [
    "# # run this when use new data, build domain score\n",
    "# domain_score = processor.build_domain_score(domain_frep_file)"
   ]
  },
  {
   "cell_type": "code",
   "execution_count": 13,
   "metadata": {},
   "outputs": [
    {
     "name": "stderr",
     "output_type": "stream",
     "text": [
      "11/06/2020 07:14:03 - Entity vector shape: torch.Size([1600870, 100])\n"
     ]
    }
   ],
   "source": [
    "entity_vector = processor.load_entity_vector(entity_vector_root) # get pretrained entity_vector"
   ]
  },
  {
   "cell_type": "code",
   "execution_count": 14,
   "metadata": {},
   "outputs": [
    {
     "name": "stderr",
     "output_type": "stream",
     "text": [
      "11/06/2020 07:14:05 - Num of all_dataloader: 15894\n",
      "11/06/2020 07:14:05 - Num of train_dataloader: 12715\n",
      "11/06/2020 07:14:05 - Num of valid_dataloader: 3179\n"
     ]
    }
   ],
   "source": [
    "all_dataloader, train_dataloader, valid_dataloader = processor.load_data(ratio=0.8, batch_size=32) # build train/valid dataloader"
   ]
  },
  {
   "cell_type": "markdown",
   "metadata": {},
   "source": [
    "## Model"
   ]
  },
  {
   "cell_type": "code",
   "execution_count": 15,
   "metadata": {},
   "outputs": [],
   "source": [
    "from model import Model, ModelConfig"
   ]
  },
  {
   "cell_type": "code",
   "execution_count": 16,
   "metadata": {},
   "outputs": [],
   "source": [
    "mconf = ModelConfig(model_name, entity_vector, en_embd_dim, en_hidden_size1=128, \n",
    "                    en_hidden_size2=128, use_en_encoder=True)"
   ]
  },
  {
   "cell_type": "code",
   "execution_count": 17,
   "metadata": {},
   "outputs": [],
   "source": [
    "bert = Model(mconf)"
   ]
  },
  {
   "cell_type": "code",
   "execution_count": 18,
   "metadata": {},
   "outputs": [
    {
     "name": "stderr",
     "output_type": "stream",
     "text": [
      "11/06/2020 07:14:09 - Model : all params: 269.601569M\n",
      "11/06/2020 07:14:09 - Model : need grad params: 7.710793M\n"
     ]
    }
   ],
   "source": [
    "bert.fix_layer_grad(fix_layer=11)"
   ]
  },
  {
   "cell_type": "markdown",
   "metadata": {},
   "source": [
    "## Start Training"
   ]
  },
  {
   "cell_type": "code",
   "execution_count": 18,
   "metadata": {},
   "outputs": [],
   "source": [
    "from trainer import Trainer, TrainerConfig"
   ]
  },
  {
   "cell_type": "code",
   "execution_count": 19,
   "metadata": {},
   "outputs": [
    {
     "name": "stdout",
     "output_type": "stream",
     "text": [
      "max_epochs 1\n",
      "learning_rate 0.0006\n",
      "lr_decay True\n",
      "warmup_tokens 6400\n",
      "final_tokens 406880\n",
      "num_workers 1\n",
      "ckpt_path ../models/bert_model.pt\n"
     ]
    }
   ],
   "source": [
    "tconf = TrainerConfig(max_epochs=1, learning_rate=6e-4, lr_decay=True, \n",
    "                      warmup_tokens=32*200, final_tokens=1*batch_size*len(train_dataloader),\n",
    "                      num_workers=1, ckpt_path='../models/bert_model.pt')"
   ]
  },
  {
   "cell_type": "code",
   "execution_count": 20,
   "metadata": {},
   "outputs": [
    {
     "name": "stderr",
     "output_type": "stream",
     "text": [
      "11/05/2020 10:04:50 - use device: cuda\n"
     ]
    }
   ],
   "source": [
    "trainer = Trainer(bert, train_dataloader, valid_dataloader, tconf)"
   ]
  },
  {
   "cell_type": "code",
   "execution_count": 22,
   "metadata": {},
   "outputs": [],
   "source": [
    "# start training\n",
    "trainer.train()"
   ]
  },
  {
   "cell_type": "markdown",
   "metadata": {},
   "source": [
    "## Feature generate"
   ]
  },
  {
   "cell_type": "code",
   "execution_count": 19,
   "metadata": {},
   "outputs": [],
   "source": [
    "from feature_extrator import FeatureExtrator"
   ]
  },
  {
   "cell_type": "code",
   "execution_count": 20,
   "metadata": {},
   "outputs": [
    {
     "data": {
      "text/plain": [
       "<All keys matched successfully>"
      ]
     },
     "execution_count": 20,
     "metadata": {},
     "output_type": "execute_result"
    }
   ],
   "source": [
    "#load model\n",
    "bert.load_state_dict(torch.load('../models/bert_model.pt'))"
   ]
  },
  {
   "cell_type": "code",
   "execution_count": 21,
   "metadata": {},
   "outputs": [
    {
     "name": "stderr",
     "output_type": "stream",
     "text": [
      "11/06/2020 07:14:13 - use device: cuda\n"
     ]
    }
   ],
   "source": [
    "feature_extrator = FeatureExtrator(bert, valid_dataloader)"
   ]
  },
  {
   "cell_type": "code",
   "execution_count": 22,
   "metadata": {},
   "outputs": [],
   "source": [
    "bert_score_root = '/data/suyinpei/bert_score_1106.pt'"
   ]
  },
  {
   "cell_type": "code",
   "execution_count": 23,
   "metadata": {},
   "outputs": [],
   "source": [
    "# bert_score = feature_extrator.generate_score(bert_score_root)"
   ]
  },
  {
   "cell_type": "code",
   "execution_count": 24,
   "metadata": {},
   "outputs": [],
   "source": [
    "bert_score, entity_score, domain_score = feature_extrator.get_features(bert_score_root)\n",
    "data_labels = feature_extrator.get_labels()"
   ]
  },
  {
   "cell_type": "code",
   "execution_count": 25,
   "metadata": {},
   "outputs": [],
   "source": [
    "class FeatureProcess():\n",
    "    \n",
    "    def __init__(self):\n",
    "        pass\n",
    "    \n",
    "    def load_features(self, bert_score, entity_score, domain_score):\n",
    "        bert_score = bert_score.unsqueeze(-1).to('cpu')\n",
    "        entity_score = entity_score.unsqueeze(-1)\n",
    "        domain_score = domain_score.unsqueeze(-1)\n",
    "        features = torch.cat([bert_score, entity_score],dim=1)\n",
    "        logger.info(\"Features shape: {}\".format(features.shape))\n",
    "        return features\n",
    "    \n",
    "    def load_labels(self, labels):\n",
    "        return labels.view(labels.shape[0],-1)"
   ]
  },
  {
   "cell_type": "code",
   "execution_count": 26,
   "metadata": {},
   "outputs": [],
   "source": [
    "feature_processor = FeatureProcess()"
   ]
  },
  {
   "cell_type": "code",
   "execution_count": 27,
   "metadata": {},
   "outputs": [
    {
     "name": "stderr",
     "output_type": "stream",
     "text": [
      "11/06/2020 07:14:19 - Features shape: torch.Size([101716, 2])\n"
     ]
    }
   ],
   "source": [
    "features = feature_processor.load_features(bert_score, entity_score, domain_score)\n",
    "labels = feature_processor.load_labels(data_labels)"
   ]
  },
  {
   "cell_type": "markdown",
   "metadata": {},
   "source": [
    "## Xgboost Training"
   ]
  },
  {
   "cell_type": "code",
   "execution_count": 120,
   "metadata": {},
   "outputs": [],
   "source": [
    "import xgboost\n",
    "from xgboost import XGBClassifier\n",
    "from xgboost import plot_importance\n",
    "from sklearn.model_selection import train_test_split\n",
    "from sklearn.metrics import accuracy_score\n",
    "import matplotlib.pyplot as plt\n",
    "import joblib"
   ]
  },
  {
   "cell_type": "code",
   "execution_count": 245,
   "metadata": {},
   "outputs": [],
   "source": [
    "x_train,x_valid,y_train,y_valid = train_test_split(features.numpy(), labels.numpy(),test_size = 0.2, random_state = 33)"
   ]
  },
  {
   "cell_type": "code",
   "execution_count": 246,
   "metadata": {},
   "outputs": [],
   "source": [
    "### fit model for train data\n",
    "model = XGBClassifier(learning_rate=0.1,\n",
    "                      n_estimators=100,          # 树的个数--1000棵树建立xgboost\n",
    "                      max_depth=6,               # 树的深度\n",
    "                      min_child_weight = 1,      # 叶子节点最小权重\n",
    "                      gamma=0.,                  # 惩罚项中叶子结点个数前的参数\n",
    "                      subsample=0.8,             # 随机选择80%样本建立决策树\n",
    "                      objective='binary:logistic', # 指定损失函数\n",
    "                      scale_pos_weight=1,        # 解决样本个数不平衡的问题\n",
    "                      random_state=27            # 随机数\n",
    "                      )"
   ]
  },
  {
   "cell_type": "code",
   "execution_count": 247,
   "metadata": {},
   "outputs": [
    {
     "name": "stdout",
     "output_type": "stream",
     "text": [
      "[0]\tvalidation_0-logloss:0.60449\n",
      "Will train until validation_0-logloss hasn't improved in 10 rounds.\n",
      "[1]\tvalidation_0-logloss:0.53195\n",
      "[2]\tvalidation_0-logloss:0.47141\n",
      "[3]\tvalidation_0-logloss:0.42031\n",
      "[4]\tvalidation_0-logloss:0.37676\n",
      "[5]\tvalidation_0-logloss:0.33935\n",
      "[6]\tvalidation_0-logloss:0.30694\n",
      "[7]\tvalidation_0-logloss:0.27875\n",
      "[8]\tvalidation_0-logloss:0.25411\n",
      "[9]\tvalidation_0-logloss:0.23250\n",
      "[10]\tvalidation_0-logloss:0.21353\n",
      "[11]\tvalidation_0-logloss:0.19679\n",
      "[12]\tvalidation_0-logloss:0.18198\n",
      "[13]\tvalidation_0-logloss:0.16885\n",
      "[14]\tvalidation_0-logloss:0.15723\n",
      "[15]\tvalidation_0-logloss:0.14690\n",
      "[16]\tvalidation_0-logloss:0.13773\n",
      "[17]\tvalidation_0-logloss:0.12957\n",
      "[18]\tvalidation_0-logloss:0.12231\n",
      "[19]\tvalidation_0-logloss:0.11585\n",
      "[20]\tvalidation_0-logloss:0.11006\n",
      "[21]\tvalidation_0-logloss:0.10488\n",
      "[22]\tvalidation_0-logloss:0.10026\n",
      "[23]\tvalidation_0-logloss:0.09616\n",
      "[24]\tvalidation_0-logloss:0.09248\n",
      "[25]\tvalidation_0-logloss:0.08920\n",
      "[26]\tvalidation_0-logloss:0.08628\n",
      "[27]\tvalidation_0-logloss:0.08367\n",
      "[28]\tvalidation_0-logloss:0.08133\n",
      "[29]\tvalidation_0-logloss:0.07926\n",
      "[30]\tvalidation_0-logloss:0.07742\n",
      "[31]\tvalidation_0-logloss:0.07575\n",
      "[32]\tvalidation_0-logloss:0.07427\n",
      "[33]\tvalidation_0-logloss:0.07297\n",
      "[34]\tvalidation_0-logloss:0.07181\n",
      "[35]\tvalidation_0-logloss:0.07080\n",
      "[36]\tvalidation_0-logloss:0.06987\n",
      "[37]\tvalidation_0-logloss:0.06910\n",
      "[38]\tvalidation_0-logloss:0.06837\n",
      "[39]\tvalidation_0-logloss:0.06775\n",
      "[40]\tvalidation_0-logloss:0.06719\n",
      "[41]\tvalidation_0-logloss:0.06671\n",
      "[42]\tvalidation_0-logloss:0.06626\n",
      "[43]\tvalidation_0-logloss:0.06585\n",
      "[44]\tvalidation_0-logloss:0.06554\n",
      "[45]\tvalidation_0-logloss:0.06525\n",
      "[46]\tvalidation_0-logloss:0.06498\n",
      "[47]\tvalidation_0-logloss:0.06474\n",
      "[48]\tvalidation_0-logloss:0.06451\n",
      "[49]\tvalidation_0-logloss:0.06431\n",
      "[50]\tvalidation_0-logloss:0.06417\n",
      "[51]\tvalidation_0-logloss:0.06406\n",
      "[52]\tvalidation_0-logloss:0.06395\n",
      "[53]\tvalidation_0-logloss:0.06383\n",
      "[54]\tvalidation_0-logloss:0.06371\n",
      "[55]\tvalidation_0-logloss:0.06362\n",
      "[56]\tvalidation_0-logloss:0.06358\n",
      "[57]\tvalidation_0-logloss:0.06354\n",
      "[58]\tvalidation_0-logloss:0.06350\n",
      "[59]\tvalidation_0-logloss:0.06344\n",
      "[60]\tvalidation_0-logloss:0.06341\n",
      "[61]\tvalidation_0-logloss:0.06338\n",
      "[62]\tvalidation_0-logloss:0.06338\n",
      "[63]\tvalidation_0-logloss:0.06337\n",
      "[64]\tvalidation_0-logloss:0.06336\n",
      "[65]\tvalidation_0-logloss:0.06335\n",
      "[66]\tvalidation_0-logloss:0.06332\n",
      "[67]\tvalidation_0-logloss:0.06331\n",
      "[68]\tvalidation_0-logloss:0.06332\n",
      "[69]\tvalidation_0-logloss:0.06332\n",
      "[70]\tvalidation_0-logloss:0.06330\n",
      "[71]\tvalidation_0-logloss:0.06330\n",
      "[72]\tvalidation_0-logloss:0.06331\n",
      "[73]\tvalidation_0-logloss:0.06331\n",
      "[74]\tvalidation_0-logloss:0.06330\n",
      "[75]\tvalidation_0-logloss:0.06332\n",
      "[76]\tvalidation_0-logloss:0.06334\n",
      "[77]\tvalidation_0-logloss:0.06334\n",
      "[78]\tvalidation_0-logloss:0.06335\n",
      "[79]\tvalidation_0-logloss:0.06338\n",
      "[80]\tvalidation_0-logloss:0.06338\n",
      "[81]\tvalidation_0-logloss:0.06340\n",
      "Stopping. Best iteration:\n",
      "[71]\tvalidation_0-logloss:0.06330\n",
      "\n"
     ]
    },
    {
     "data": {
      "text/plain": [
       "XGBClassifier(base_score=0.5, booster='gbtree', colsample_bylevel=1,\n",
       "              colsample_bynode=1, colsample_bytree=1, gamma=0.0, gpu_id=-1,\n",
       "              importance_type='gain', interaction_constraints='',\n",
       "              learning_rate=0.1, max_delta_step=0, max_depth=6,\n",
       "              min_child_weight=1, missing=nan, monotone_constraints='()',\n",
       "              n_estimators=100, n_jobs=0, num_parallel_tree=1, random_state=27,\n",
       "              reg_alpha=0, reg_lambda=1, scale_pos_weight=1, subsample=0.8,\n",
       "              tree_method='exact', validate_parameters=1, verbosity=None)"
      ]
     },
     "execution_count": 247,
     "metadata": {},
     "output_type": "execute_result"
    }
   ],
   "source": [
    "model.fit(x_train,\n",
    "          y_train,\n",
    "          eval_set = [(x_valid,y_valid)],\n",
    "          eval_metric = \"logloss\",\n",
    "          early_stopping_rounds = 10,\n",
    "          verbose = True)"
   ]
  },
  {
   "cell_type": "code",
   "execution_count": 248,
   "metadata": {},
   "outputs": [
    {
     "data": {
      "image/png": "[encoded data removed]",
      "text/plain": [
       "<Figure size 360x360 with 1 Axes>"
      ]
     },
     "metadata": {
      "needs_background": "light"
     },
     "output_type": "display_data"
    }
   ],
   "source": [
    "### plot feature importance\n",
    "fig,ax = plt.subplots(figsize=(5,5))\n",
    "plot_importance(model,\n",
    "                height=0.2,\n",
    "                ax=ax,\n",
    "                max_num_features=6)\n",
    "plt.show()"
   ]
  },
  {
   "cell_type": "code",
   "execution_count": 249,
   "metadata": {},
   "outputs": [
    {
     "name": "stdout",
     "output_type": "stream",
     "text": [
      "accuarcy: 97.91093197011404\n"
     ]
    }
   ],
   "source": [
    "### make prediction for test data\n",
    "y_pred = np.round(model.predict_proba(x_valid)[:,1])\n",
    "\n",
    "### model evaluate\n",
    "accuracy = accuracy_score(y_valid, y_pred)\n",
    "print(\"accuarcy: {}\".format((accuracy*100.0)))"
   ]
  },
  {
   "cell_type": "code",
   "execution_count": 250,
   "metadata": {},
   "outputs": [
    {
     "data": {
      "text/plain": [
       "['xgboost.model']"
      ]
     },
     "execution_count": 250,
     "metadata": {},
     "output_type": "execute_result"
    }
   ],
   "source": [
    "joblib.dump(model, 'xgboost.model')  #save model"
   ]
  },
  {
   "cell_type": "markdown",
   "metadata": {},
   "source": [
    "## Test data collection && features generation"
   ]
  },
  {
   "cell_type": "code",
   "execution_count": 28,
   "metadata": {},
   "outputs": [],
   "source": [
    "from feature_extrator import FeatureExtrator\n",
    "from test_data_collator import TestDataCollator"
   ]
  },
  {
   "cell_type": "code",
   "execution_count": 29,
   "metadata": {},
   "outputs": [
    {
     "name": "stderr",
     "output_type": "stream",
     "text": [
      "11/06/2020 07:14:52 - All Entity number: 7744598\n",
      "11/06/2020 07:15:00 - Entity vocab size: 1600870\n",
      "11/06/2020 07:15:43 - Load success!\n"
     ]
    }
   ],
   "source": [
    "entity_to_index, index_to_entity = processor.build_entity_vocab()\n",
    "idf_dict, unk_idf = processor.load_idf(idf_file)"
   ]
  },
  {
   "cell_type": "code",
   "execution_count": 30,
   "metadata": {},
   "outputs": [],
   "source": [
    "test_batch = 32\n",
    "test_data_file = \"/data/suyinpei/test_data_1k.tsv\""
   ]
  },
  {
   "cell_type": "code",
   "execution_count": 31,
   "metadata": {},
   "outputs": [],
   "source": [
    "test_data_collator = TestDataCollator(test_data_file)"
   ]
  },
  {
   "cell_type": "code",
   "execution_count": 32,
   "metadata": {},
   "outputs": [
    {
     "name": "stderr",
     "output_type": "stream",
     "text": [
      "11/06/2020 07:15:54 - Encode text: Took 10.409568548202515 seconds\n",
      "11/06/2020 07:15:55 - Entity score vocab size: 667095\n",
      "11/06/2020 07:15:55 - domain score vocab size: 15942\n",
      "11/06/2020 07:15:58 - Encode other features: Took 4.572131395339966 seconds\n"
     ]
    }
   ],
   "source": [
    "test_dataloader = test_data_collator.load_data(test_batch, tokenizer, \n",
    "                                               entity_to_index, index_to_entity, \n",
    "                                               wiki2vec, idf_dict, unk_idf, \n",
    "                                               en_pad_size, en_embd_dim, \n",
    "                                               entity_frep_file, domain_frep_file)"
   ]
  },
  {
   "cell_type": "code",
   "execution_count": 33,
   "metadata": {},
   "outputs": [
    {
     "data": {
      "text/plain": [
       "<All keys matched successfully>"
      ]
     },
     "execution_count": 33,
     "metadata": {},
     "output_type": "execute_result"
    }
   ],
   "source": [
    "#load model\n",
    "bert.load_state_dict(torch.load('../models/bert_model.pt'))"
   ]
  },
  {
   "cell_type": "code",
   "execution_count": 34,
   "metadata": {},
   "outputs": [
    {
     "name": "stderr",
     "output_type": "stream",
     "text": [
      "11/06/2020 07:15:59 - use device: cuda\n"
     ]
    }
   ],
   "source": [
    "test_feature_extrator = FeatureExtrator(bert, test_dataloader)"
   ]
  },
  {
   "cell_type": "code",
   "execution_count": 35,
   "metadata": {},
   "outputs": [],
   "source": [
    "bert_score_test_root = '/data/suyinpei/bert_score_test.pt'"
   ]
  },
  {
   "cell_type": "code",
   "execution_count": 36,
   "metadata": {},
   "outputs": [
    {
     "name": "stderr",
     "output_type": "stream",
     "text": [
      "Test Progress: 100%|██████████| 32/32 [00:09<00:00,  3.23it/s]\n",
      "11/06/2020 07:16:09 - Saved success to /data/suyinpei/bert_score_test.pt\n"
     ]
    }
   ],
   "source": [
    "bert_score_test = test_feature_extrator.generate_score(bert_score_test_root, test=True)"
   ]
  },
  {
   "cell_type": "code",
   "execution_count": 37,
   "metadata": {},
   "outputs": [],
   "source": [
    "bert_score_test, entity_score_test, domain_score_test = test_feature_extrator.get_features(bert_score_test_root)"
   ]
  },
  {
   "cell_type": "code",
   "execution_count": 38,
   "metadata": {},
   "outputs": [],
   "source": [
    "test_feature_processor = FeatureProcess()"
   ]
  },
  {
   "cell_type": "code",
   "execution_count": 39,
   "metadata": {},
   "outputs": [
    {
     "name": "stderr",
     "output_type": "stream",
     "text": [
      "11/06/2020 07:16:09 - Features shape: torch.Size([999, 2])\n"
     ]
    }
   ],
   "source": [
    "test_features = test_feature_processor.load_features(bert_score_test, entity_score_test, domain_score_test)"
   ]
  },
  {
   "cell_type": "markdown",
   "metadata": {},
   "source": [
    "## Get final score"
   ]
  },
  {
   "cell_type": "code",
   "execution_count": 40,
   "metadata": {},
   "outputs": [],
   "source": [
    "import joblib"
   ]
  },
  {
   "cell_type": "code",
   "execution_count": 41,
   "metadata": {},
   "outputs": [],
   "source": [
    "model = joblib.load('xgboost.model_0') #load saved model"
   ]
  },
  {
   "cell_type": "code",
   "execution_count": 42,
   "metadata": {},
   "outputs": [],
   "source": [
    "y_pred = model.predict_proba(test_features.numpy())[:,1]"
   ]
  },
  {
   "cell_type": "code",
   "execution_count": 43,
   "metadata": {},
   "outputs": [
    {
     "name": "stderr",
     "output_type": "stream",
     "text": [
      "11/06/2020 08:53:25 - Predict number: 999\n"
     ]
    }
   ],
   "source": [
    "logger.info('Predict number: {}'.format(y_pred.shape[0]))\n",
    "for i in range(2):\n",
    "    f = open(test_data_file)\n",
    "    fout = open('../data/model_predict.tsv','w')\n",
    "    reader = csv.reader(f, delimiter='\\t')\n",
    "    for line, prob in zip(reader, y_pred):\n",
    "        docid = line[0]\n",
    "        fout.write('{}\\t{}\\n'.format(docid, prob))         "
   ]
  },
  {
   "cell_type": "code",
   "execution_count": 47,
   "metadata": {},
   "outputs": [
    {
     "data": {
      "text/plain": [
       "array([0.9997, 0.9997, 0.9995, 0.0119, 0.0008, 0.9996, 0.0019, 0.9995,\n",
       "       0.9975, 0.9996], dtype=float32)"
      ]
     },
     "execution_count": 47,
     "metadata": {},
     "output_type": "execute_result"
    }
   ],
   "source": [
    "y_pred[:10]"
   ]
  },
  {
   "cell_type": "code",
   "execution_count": 45,
   "metadata": {},
   "outputs": [],
   "source": [
    "torch.set_printoptions(\n",
    "    precision=4,    # 精度，保留小数点后几位，默认4\n",
    "    threshold=100,\n",
    "    edgeitems=10,\n",
    "    linewidth=80,  # 每行最多显示的字符数，默认80，超过则换行显示\n",
    "    profile=None,\n",
    "    sci_mode=False  # 用科学技术法显示数据，默认True\n",
    ")"
   ]
  },
  {
   "cell_type": "code",
   "execution_count": 46,
   "metadata": {},
   "outputs": [],
   "source": [
    "np.set_printoptions(\n",
    "    precision=4,\n",
    "    suppress=True\n",
    ")"
   ]
  },
  {
   "cell_type": "code",
   "execution_count": null,
   "metadata": {},
   "outputs": [],
   "source": []
  }
 ],
 "metadata": {
  "kernelspec": {
   "display_name": "Python 3",
   "language": "python",
   "name": "python3"
  },
  "language_info": {
   "codemirror_mode": {
    "name": "ipython",
    "version": 3
   },
   "file_extension": ".py",
   "mimetype": "text/x-python",
   "name": "python",
   "nbconvert_exporter": "python",
   "pygments_lexer": "ipython3",
   "version": "3.8.5"
  }
 },
 "nbformat": 4,
 "nbformat_minor": 4
}
