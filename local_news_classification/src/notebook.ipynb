{
 "cells": [
  {
   "cell_type": "code",
   "execution_count": 1,
   "metadata": {},
   "outputs": [],
   "source": [
    "import torch\n",
    "import numpy as np\n",
    "from transformers import BertTokenizer\n",
    "from wikipedia2vec import Wikipedia2Vec\n",
    "import time\n",
    "import csv\n",
    "import warnings\n",
    "import logging"
   ]
  },
  {
   "cell_type": "code",
   "execution_count": 2,
   "metadata": {},
   "outputs": [],
   "source": [
    "from utils import *\n",
    "from data_processor import DataProcess\n",
    "from bert_model import Bert, BertConfig\n",
    "from entity_model import EntityModelConfig, EntityEncoder\n",
    "from bert_trainer import BertTrainer, BertTrainerConfig\n",
    "from entity_trainer import EntityTrainer, EntityTrainerConfig"
   ]
  },
  {
   "cell_type": "code",
   "execution_count": 3,
   "metadata": {},
   "outputs": [],
   "source": [
    "warnings.filterwarnings('ignore')\n",
    "logging.basicConfig(\n",
    "        format=\"%(asctime)s - %(message)s\",\n",
    "        datefmt=\"%m/%d/%Y %H:%M:%S\",\n",
    "        level=logging.INFO,\n",
    ")\n",
    "logger = logging.getLogger(__name__)"
   ]
  },
  {
   "cell_type": "code",
   "execution_count": 4,
   "metadata": {},
   "outputs": [],
   "source": [
    "set_seed(42)"
   ]
  },
  {
   "cell_type": "code",
   "execution_count": 5,
   "metadata": {},
   "outputs": [],
   "source": [
    "# use pretrained bert model and tokenizer\n",
    "model_name = 'bert-base-uncased'\n",
    "tokenizer = BertTokenizer.from_pretrained(model_name)"
   ]
  },
  {
   "cell_type": "code",
   "execution_count": 6,
   "metadata": {},
   "outputs": [],
   "source": [
    "# use pretrained wiki_vector model\n",
    "model_file = '/data/suyinpei/wiki_vector.model'\n",
    "wiki2vec = Wikipedia2Vec.load(model_file)"
   ]
  },
  {
   "cell_type": "markdown",
   "metadata": {},
   "source": [
    "## Data process"
   ]
  },
  {
   "cell_type": "code",
   "execution_count": 7,
   "metadata": {},
   "outputs": [],
   "source": [
    "batch_size = 32 # batch size\n",
    "en_pad_size = 12 # max entity number of one data\n",
    "en_embd_dim = 100 # entity embedding dim\n",
    "idf_file = '/data/suyinpei/idf_bigram5.txt'\n",
    "entity_frep_file = '/data/suyinpei/entity_frep.tsv'\n",
    "data_root = \"/data/suyinpei/all_data_1028.tsv\" # data: docid, text, entities, label\n",
    "text_id_root = \"/data/suyinpei/text_ids_1028.pt\" # data_size * 512\n",
    "labels_root = \"/data/suyinpei/labels_1028.pt\" # data_size\n",
    "entity_id_root = \"/data/suyinpei/entity_ids_1028.pt\" # data_size * 12\n",
    "entity_length_root = \"/data/suyinpei/entity_length_1028.pt\" # data_size\n",
    "entity_vector_root = \"/data/suyinpei/entity_vectors_1028.pt\" # en_vocab_size * 100\n",
    "entity_distribute_root = \"/data/suyinpei/entity_distribute_1028.pt\" # data_size"
   ]
  },
  {
   "cell_type": "code",
   "execution_count": 8,
   "metadata": {},
   "outputs": [],
   "source": [
    "processor = DataProcess(data_root, text_id_root, labels_root, entity_id_root, entity_length_root, entity_distribute_root)"
   ]
  },
  {
   "cell_type": "code",
   "execution_count": 9,
   "metadata": {},
   "outputs": [],
   "source": [
    "# # run this when using new data, build text index and label\n",
    "# all_input_ids, labels = processor.encode_text(tokenizer)"
   ]
  },
  {
   "cell_type": "code",
   "execution_count": 10,
   "metadata": {},
   "outputs": [
    {
     "name": "stderr",
     "output_type": "stream",
     "text": [
      "11/04/2020 08:00:17 - All Entity number: 7744598\n",
      "11/04/2020 08:00:25 - Entity vocab size: 1600870\n"
     ]
    }
   ],
   "source": [
    "# get entity vocab for predict\n",
    "entity_to_index, index_to_entity = processor.build_entity_vocab()"
   ]
  },
  {
   "cell_type": "code",
   "execution_count": 11,
   "metadata": {},
   "outputs": [],
   "source": [
    "# run this when need compute entity vector \n",
    "idf_dict, unk_idf = processor.load_idf(idf_file)"
   ]
  },
  {
   "cell_type": "code",
   "execution_count": 12,
   "metadata": {},
   "outputs": [],
   "source": [
    "# # run this when use new data, build entity vector and index\n",
    "# build_entity_vector = processor.build_entity_vector(entity_to_index, index_to_entity, wiki2vec, idf_dict, unk_idf, en_embd_dim, entity_vector_root)\n",
    "# all_entity_ids, all_entity_length = processor.build_entity_id(entity_to_index, index_to_entity, en_pad_size)"
   ]
  },
  {
   "cell_type": "code",
   "execution_count": 13,
   "metadata": {},
   "outputs": [
    {
     "name": "stderr",
     "output_type": "stream",
     "text": [
      "11/04/2020 08:01:10 - Entity distribute vocab size: 667095\n"
     ]
    }
   ],
   "source": [
    "entity_distribute_dict = processor.load_entity_distribute_dict(entity_frep_file)"
   ]
  },
  {
   "cell_type": "code",
   "execution_count": 14,
   "metadata": {},
   "outputs": [
    {
     "name": "stderr",
     "output_type": "stream",
     "text": [
      "11/04/2020 08:01:38 - Entity distribute shape: torch.Size([508577])\n"
     ]
    }
   ],
   "source": [
    "# run this when use new data, build entity vector and index\n",
    "entity_distribute = processor.build_entity_distribute(entity_distribute_dict)"
   ]
  },
  {
   "cell_type": "code",
   "execution_count": 15,
   "metadata": {},
   "outputs": [
    {
     "name": "stderr",
     "output_type": "stream",
     "text": [
      "11/04/2020 08:01:38 - Entity vector shape: torch.Size([1600870, 100])\n"
     ]
    }
   ],
   "source": [
    "entity_vector = processor.load_entity_vector(entity_vector_root) # get pretrained entity_vector"
   ]
  },
  {
   "cell_type": "code",
   "execution_count": 16,
   "metadata": {},
   "outputs": [
    {
     "name": "stderr",
     "output_type": "stream",
     "text": [
      "11/04/2020 08:01:39 - Num of all_dataloader: 15894\n",
      "11/04/2020 08:01:39 - Num of train_dataloader: 12715\n",
      "11/04/2020 08:01:39 - Num of valid_dataloader: 3179\n"
     ]
    }
   ],
   "source": [
    "all_dataloader, train_dataloader, valid_dataloader = processor.load_data(ratio=0.8, batch_size=32) # build train/valid dataloader"
   ]
  },
  {
   "cell_type": "markdown",
   "metadata": {},
   "source": [
    "## Bert"
   ]
  },
  {
   "cell_type": "code",
   "execution_count": 17,
   "metadata": {},
   "outputs": [],
   "source": [
    "bert_conf = BertConfig(model_name)"
   ]
  },
  {
   "cell_type": "code",
   "execution_count": 18,
   "metadata": {},
   "outputs": [],
   "source": [
    "bert = Bert(bert_conf)"
   ]
  },
  {
   "cell_type": "code",
   "execution_count": 19,
   "metadata": {},
   "outputs": [
    {
     "name": "stderr",
     "output_type": "stream",
     "text": [
      "11/04/2020 08:01:43 - Bert : all params: 109.484545M\n",
      "11/04/2020 08:01:43 - Bert : need grad params: 7.680769M\n"
     ]
    }
   ],
   "source": [
    "bert.fix_layer_grad(fix_layer=11)"
   ]
  },
  {
   "cell_type": "markdown",
   "metadata": {},
   "source": [
    "## Entity Model"
   ]
  },
  {
   "cell_type": "code",
   "execution_count": 20,
   "metadata": {},
   "outputs": [],
   "source": [
    "entity_model_conf = EntityModelConfig(entity_vector, en_embd_dim, en_hidden_size1=128, en_hidden_size2=128)"
   ]
  },
  {
   "cell_type": "code",
   "execution_count": 21,
   "metadata": {},
   "outputs": [],
   "source": [
    "entity_model = EntityEncoder(entity_model_conf)"
   ]
  },
  {
   "cell_type": "code",
   "execution_count": 22,
   "metadata": {},
   "outputs": [
    {
     "data": {
      "text/plain": [
       "EntityEncoder(\n",
       "  (en_embeddings): Embedding(1600870, 100)\n",
       "  (ln1): LayerNorm((100,), eps=1e-12, elementwise_affine=True)\n",
       "  (dropout): Dropout(p=0.1, inplace=False)\n",
       "  (mlp): Sequential(\n",
       "    (0): Linear(in_features=100, out_features=128, bias=True)\n",
       "    (1): GELU()\n",
       "    (2): Linear(in_features=128, out_features=128, bias=True)\n",
       "    (3): Dropout(p=0.1, inplace=False)\n",
       "  )\n",
       "  (ln2): LayerNorm((128,), eps=1e-12, elementwise_affine=True)\n",
       "  (fc): Linear(in_features=128, out_features=1, bias=True)\n",
       ")"
      ]
     },
     "execution_count": 22,
     "metadata": {},
     "output_type": "execute_result"
    }
   ],
   "source": [
    "entity_model"
   ]
  },
  {
   "cell_type": "markdown",
   "metadata": {},
   "source": [
    "## Bert Training"
   ]
  },
  {
   "cell_type": "code",
   "execution_count": 50,
   "metadata": {},
   "outputs": [
    {
     "name": "stdout",
     "output_type": "stream",
     "text": [
      "max_epochs 1\n",
      "learning_rate 0.0006\n",
      "lr_decay True\n",
      "warmup_tokens 6400\n",
      "final_tokens 406880\n",
      "num_workers 1\n",
      "ckpt_path ../models/bert_model.pt\n"
     ]
    }
   ],
   "source": [
    "bert_tconf = BertTrainerConfig(max_epochs=1, learning_rate=6e-4, lr_decay=True, \n",
    "                      warmup_tokens=32*200, final_tokens=1*batch_size*len(train_dataloader),\n",
    "                      num_workers=1, ckpt_path='../models/bert_model.pt')"
   ]
  },
  {
   "cell_type": "code",
   "execution_count": 51,
   "metadata": {},
   "outputs": [
    {
     "name": "stderr",
     "output_type": "stream",
     "text": [
      "11/03/2020 09:12:08 - use device: cuda\n"
     ]
    }
   ],
   "source": [
    "bert_trainer = BertTrainer(bert, train_dataloader, valid_dataloader, bert_tconf)"
   ]
  },
  {
   "cell_type": "code",
   "execution_count": 52,
   "metadata": {},
   "outputs": [
    {
     "name": "stderr",
     "output_type": "stream",
     "text": [
      "epoch 1 iter 12714: train loss 0.00832. score 1.00000. lr 6.000000e-05: 100%|██████████| 12715/12715 [1:20:15<00:00,  2.64it/s]\n",
      "11/03/2020 10:48:47 - test loss: 0.07629033457531766\n",
      "11/03/2020 10:48:47 - test score: 0.9762082695960999\n",
      "11/03/2020 10:48:47 - saving ../models/bert_model.pt\n"
     ]
    }
   ],
   "source": [
    "# start training\n",
    "bert_trainer.train()"
   ]
  },
  {
   "cell_type": "markdown",
   "metadata": {},
   "source": [
    "## Entity Model Training"
   ]
  },
  {
   "cell_type": "code",
   "execution_count": 45,
   "metadata": {},
   "outputs": [
    {
     "name": "stdout",
     "output_type": "stream",
     "text": [
      "max_epochs 1\n",
      "learning_rate 0.0006\n",
      "lr_decay True\n",
      "warmup_tokens 6400\n",
      "final_tokens 406880\n",
      "num_workers 1\n",
      "ckpt_path ../models/entity_model.pt\n"
     ]
    }
   ],
   "source": [
    "entity_model_tconf = BertTrainerConfig(max_epochs=1, learning_rate=6e-4, lr_decay=True, \n",
    "                      warmup_tokens=32*200, final_tokens=1*batch_size*len(train_dataloader),\n",
    "                      num_workers=1, ckpt_path='../models/entity_model.pt')"
   ]
  },
  {
   "cell_type": "code",
   "execution_count": 48,
   "metadata": {},
   "outputs": [
    {
     "name": "stderr",
     "output_type": "stream",
     "text": [
      "11/03/2020 09:05:50 - use device: cuda\n"
     ]
    }
   ],
   "source": [
    "entity_model_trainer = EntityTrainer(entity_model, train_dataloader, valid_dataloader, entity_model_tconf)"
   ]
  },
  {
   "cell_type": "code",
   "execution_count": 49,
   "metadata": {},
   "outputs": [
    {
     "name": "stderr",
     "output_type": "stream",
     "text": [
      "epoch 1 iter 12714: train loss 0.06583. score 1.00000. lr 6.000000e-05: 100%|██████████| 12715/12715 [03:29<00:00, 60.66it/s]\n",
      "11/03/2020 09:09:44 - test loss: 0.16098844285992264\n",
      "11/03/2020 09:09:44 - test score: 0.9415332674980164\n",
      "11/03/2020 09:09:44 - saving ../models/entity_model.pt\n"
     ]
    }
   ],
   "source": [
    "entity_model_trainer.train()"
   ]
  },
  {
   "cell_type": "markdown",
   "metadata": {},
   "source": [
    "## Feature generate"
   ]
  },
  {
   "cell_type": "code",
   "execution_count": 23,
   "metadata": {},
   "outputs": [],
   "source": [
    "from bert_scorer import BertScorer\n",
    "from entity_scorer import EntityScorer"
   ]
  },
  {
   "cell_type": "code",
   "execution_count": 24,
   "metadata": {},
   "outputs": [
    {
     "data": {
      "text/plain": [
       "<All keys matched successfully>"
      ]
     },
     "execution_count": 24,
     "metadata": {},
     "output_type": "execute_result"
    }
   ],
   "source": [
    "#load model\n",
    "bert.load_state_dict(torch.load('../models/bert_model.pt'))"
   ]
  },
  {
   "cell_type": "code",
   "execution_count": 25,
   "metadata": {},
   "outputs": [
    {
     "data": {
      "text/plain": [
       "<All keys matched successfully>"
      ]
     },
     "execution_count": 25,
     "metadata": {},
     "output_type": "execute_result"
    }
   ],
   "source": [
    "entity_model.load_state_dict(torch.load('../models/entity_model.pt'))"
   ]
  },
  {
   "cell_type": "code",
   "execution_count": 26,
   "metadata": {},
   "outputs": [],
   "source": [
    "bert_score_root = '/data/suyinpei/bert_score_1028.pt'"
   ]
  },
  {
   "cell_type": "code",
   "execution_count": 27,
   "metadata": {},
   "outputs": [
    {
     "name": "stderr",
     "output_type": "stream",
     "text": [
      "11/04/2020 08:01:45 - use device: cuda\n",
      "11/04/2020 08:01:45 - use device: cuda\n"
     ]
    }
   ],
   "source": [
    "bert_scorer = BertScorer(bert, valid_dataloader)\n",
    "entity_scorer = EntityScorer(entity_model, valid_dataloader)"
   ]
  },
  {
   "cell_type": "code",
   "execution_count": 28,
   "metadata": {},
   "outputs": [],
   "source": [
    "# bert_score = bert_scorer.generate_score(bert_score_root)"
   ]
  },
  {
   "cell_type": "code",
   "execution_count": 29,
   "metadata": {},
   "outputs": [
    {
     "name": "stderr",
     "output_type": "stream",
     "text": [
      "Entity Model Score Progress: 100%|██████████| 3179/3179 [00:23<00:00, 134.32it/s]\n"
     ]
    }
   ],
   "source": [
    "entity_score, entity_distribute, labels = entity_scorer.generate_score()"
   ]
  },
  {
   "cell_type": "code",
   "execution_count": 30,
   "metadata": {},
   "outputs": [],
   "source": [
    "class FeatureProcess():\n",
    "    \n",
    "    def __init__(self):\n",
    "        pass\n",
    "    \n",
    "    def load_features(self, bert_score_root, entity_score, entity_distribute):\n",
    "        bert_score = torch.load(bert_score_root).unsqueeze(-1).to('cpu')\n",
    "        entity_score = entity_score.unsqueeze(-1).to('cpu')\n",
    "        entity_distribute = entity_distribute.unsqueeze(-1).to('cpu')\n",
    "        features = torch.cat([bert_score, entity_score, entity_distribute],dim=1)\n",
    "        logger.info(\"Features shape: {}\".format(features.shape))\n",
    "        return features\n",
    "    \n",
    "    def load_labels(self, labels):\n",
    "        return labels.view(labels.shape[0],-1)"
   ]
  },
  {
   "cell_type": "code",
   "execution_count": 31,
   "metadata": {},
   "outputs": [],
   "source": [
    "feature_processor = FeatureProcess()"
   ]
  },
  {
   "cell_type": "code",
   "execution_count": 32,
   "metadata": {},
   "outputs": [
    {
     "name": "stderr",
     "output_type": "stream",
     "text": [
      "11/04/2020 08:02:09 - Features shape: torch.Size([101716, 3])\n"
     ]
    }
   ],
   "source": [
    "features = feature_processor.load_features(bert_score_root, entity_score, entity_distribute)\n",
    "labels = feature_processor.load_labels(labels)"
   ]
  },
  {
   "cell_type": "markdown",
   "metadata": {},
   "source": [
    "## Xgboost Training"
   ]
  },
  {
   "cell_type": "code",
   "execution_count": 33,
   "metadata": {},
   "outputs": [],
   "source": [
    "import xgboost\n",
    "from xgboost import XGBClassifier\n",
    "from xgboost import plot_importance\n",
    "from sklearn.model_selection import train_test_split\n",
    "from sklearn.metrics import accuracy_score\n",
    "import matplotlib.pyplot as plt\n",
    "import joblib"
   ]
  },
  {
   "cell_type": "code",
   "execution_count": 34,
   "metadata": {},
   "outputs": [],
   "source": [
    "x_train,x_valid,y_train,y_valid = train_test_split(features.numpy(), labels.numpy(),test_size = 0.2, random_state = 33)"
   ]
  },
  {
   "cell_type": "code",
   "execution_count": 35,
   "metadata": {},
   "outputs": [],
   "source": [
    "### fit model for train data\n",
    "model = XGBClassifier(learning_rate=0.1,\n",
    "                      n_estimators=1000,           # 树的个数--1000棵树建立xgboost\n",
    "                      max_depth=6,                 # 树的深度\n",
    "                      min_child_weight = 1,        # 叶子节点最小权重\n",
    "                      gamma=0.,                    # 惩罚项中叶子结点个数前的参数\n",
    "                      subsample=0.8,               # 随机选择80%样本建立决策树\n",
    "                      colsample_btree=1,         # 随机选择80%特征建立决策树\n",
    "                      objective='binary:logistic', # 指定损失函数\n",
    "                      scale_pos_weight=1,          # 解决样本个数不平衡的问题\n",
    "                      random_state=27              # 随机数\n",
    "                      )"
   ]
  },
  {
   "cell_type": "code",
   "execution_count": 36,
   "metadata": {},
   "outputs": [
    {
     "name": "stdout",
     "output_type": "stream",
     "text": [
      "[08:02:10] WARNING: ../src/learner.cc:516: \n",
      "Parameters: { colsample_btree } might not be used.\n",
      "\n",
      "  This may not be accurate due to some parameters are only used in language bindings but\n",
      "  passed down to XGBoost core.  Or some parameters are not used but slip through this\n",
      "  verification. Please open an issue if you find above cases.\n",
      "\n",
      "\n",
      "[0]\tvalidation_0-logloss:0.60457\n",
      "Will train until validation_0-logloss hasn't improved in 10 rounds.\n",
      "[1]\tvalidation_0-logloss:0.53205\n",
      "[2]\tvalidation_0-logloss:0.47154\n",
      "[3]\tvalidation_0-logloss:0.42050\n",
      "[4]\tvalidation_0-logloss:0.37697\n",
      "[5]\tvalidation_0-logloss:0.33951\n",
      "[6]\tvalidation_0-logloss:0.30707\n",
      "[7]\tvalidation_0-logloss:0.27894\n",
      "[8]\tvalidation_0-logloss:0.25428\n",
      "[9]\tvalidation_0-logloss:0.23267\n",
      "[10]\tvalidation_0-logloss:0.21366\n",
      "[11]\tvalidation_0-logloss:0.19688\n",
      "[12]\tvalidation_0-logloss:0.18205\n",
      "[13]\tvalidation_0-logloss:0.16890\n",
      "[14]\tvalidation_0-logloss:0.15723\n",
      "[15]\tvalidation_0-logloss:0.14682\n",
      "[16]\tvalidation_0-logloss:0.13763\n",
      "[17]\tvalidation_0-logloss:0.12944\n",
      "[18]\tvalidation_0-logloss:0.12209\n",
      "[19]\tvalidation_0-logloss:0.11557\n",
      "[20]\tvalidation_0-logloss:0.10976\n",
      "[21]\tvalidation_0-logloss:0.10456\n",
      "[22]\tvalidation_0-logloss:0.09995\n",
      "[23]\tvalidation_0-logloss:0.09575\n",
      "[24]\tvalidation_0-logloss:0.09205\n",
      "[25]\tvalidation_0-logloss:0.08877\n",
      "[26]\tvalidation_0-logloss:0.08580\n",
      "[27]\tvalidation_0-logloss:0.08315\n",
      "[28]\tvalidation_0-logloss:0.08080\n",
      "[29]\tvalidation_0-logloss:0.07869\n",
      "[30]\tvalidation_0-logloss:0.07680\n",
      "[31]\tvalidation_0-logloss:0.07513\n",
      "[32]\tvalidation_0-logloss:0.07363\n",
      "[33]\tvalidation_0-logloss:0.07230\n",
      "[34]\tvalidation_0-logloss:0.07110\n",
      "[35]\tvalidation_0-logloss:0.07006\n",
      "[36]\tvalidation_0-logloss:0.06912\n",
      "[37]\tvalidation_0-logloss:0.06829\n",
      "[38]\tvalidation_0-logloss:0.06753\n",
      "[39]\tvalidation_0-logloss:0.06687\n",
      "[40]\tvalidation_0-logloss:0.06631\n",
      "[41]\tvalidation_0-logloss:0.06580\n",
      "[42]\tvalidation_0-logloss:0.06532\n",
      "[43]\tvalidation_0-logloss:0.06491\n",
      "[44]\tvalidation_0-logloss:0.06453\n",
      "[45]\tvalidation_0-logloss:0.06423\n",
      "[46]\tvalidation_0-logloss:0.06394\n",
      "[47]\tvalidation_0-logloss:0.06368\n",
      "[48]\tvalidation_0-logloss:0.06344\n",
      "[49]\tvalidation_0-logloss:0.06328\n",
      "[50]\tvalidation_0-logloss:0.06307\n",
      "[51]\tvalidation_0-logloss:0.06292\n",
      "[52]\tvalidation_0-logloss:0.06277\n",
      "[53]\tvalidation_0-logloss:0.06262\n",
      "[54]\tvalidation_0-logloss:0.06251\n",
      "[55]\tvalidation_0-logloss:0.06243\n",
      "[56]\tvalidation_0-logloss:0.06235\n",
      "[57]\tvalidation_0-logloss:0.06230\n",
      "[58]\tvalidation_0-logloss:0.06221\n",
      "[59]\tvalidation_0-logloss:0.06217\n",
      "[60]\tvalidation_0-logloss:0.06214\n",
      "[61]\tvalidation_0-logloss:0.06212\n",
      "[62]\tvalidation_0-logloss:0.06212\n",
      "[63]\tvalidation_0-logloss:0.06208\n",
      "[64]\tvalidation_0-logloss:0.06205\n",
      "[65]\tvalidation_0-logloss:0.06200\n",
      "[66]\tvalidation_0-logloss:0.06198\n",
      "[67]\tvalidation_0-logloss:0.06195\n",
      "[68]\tvalidation_0-logloss:0.06191\n",
      "[69]\tvalidation_0-logloss:0.06187\n",
      "[70]\tvalidation_0-logloss:0.06181\n",
      "[71]\tvalidation_0-logloss:0.06182\n",
      "[72]\tvalidation_0-logloss:0.06182\n",
      "[73]\tvalidation_0-logloss:0.06181\n",
      "[74]\tvalidation_0-logloss:0.06184\n",
      "[75]\tvalidation_0-logloss:0.06182\n",
      "[76]\tvalidation_0-logloss:0.06178\n",
      "[77]\tvalidation_0-logloss:0.06177\n",
      "[78]\tvalidation_0-logloss:0.06178\n",
      "[79]\tvalidation_0-logloss:0.06177\n",
      "[80]\tvalidation_0-logloss:0.06178\n",
      "[81]\tvalidation_0-logloss:0.06181\n",
      "[82]\tvalidation_0-logloss:0.06184\n",
      "[83]\tvalidation_0-logloss:0.06181\n",
      "[84]\tvalidation_0-logloss:0.06182\n",
      "[85]\tvalidation_0-logloss:0.06182\n",
      "[86]\tvalidation_0-logloss:0.06180\n",
      "[87]\tvalidation_0-logloss:0.06182\n",
      "Stopping. Best iteration:\n",
      "[77]\tvalidation_0-logloss:0.06177\n",
      "\n"
     ]
    },
    {
     "data": {
      "text/plain": [
       "XGBClassifier(base_score=0.5, booster='gbtree', colsample_btree=1,\n",
       "              colsample_bylevel=1, colsample_bynode=1, colsample_bytree=1,\n",
       "              gamma=0.0, gpu_id=-1, importance_type='gain',\n",
       "              interaction_constraints='', learning_rate=0.1, max_delta_step=0,\n",
       "              max_depth=6, min_child_weight=1, missing=nan,\n",
       "              monotone_constraints='()', n_estimators=1000, n_jobs=0,\n",
       "              num_parallel_tree=1, random_state=27, reg_alpha=0, reg_lambda=1,\n",
       "              scale_pos_weight=1, subsample=0.8, tree_method='exact',\n",
       "              validate_parameters=1, verbosity=None)"
      ]
     },
     "execution_count": 36,
     "metadata": {},
     "output_type": "execute_result"
    }
   ],
   "source": [
    "model.fit(x_train,\n",
    "          y_train,\n",
    "          eval_set = [(x_valid,y_valid)],\n",
    "          eval_metric = \"logloss\",\n",
    "          early_stopping_rounds = 10,\n",
    "          verbose = True)"
   ]
  },
  {
   "cell_type": "code",
   "execution_count": 38,
   "metadata": {},
   "outputs": [
    {
     "data": {
      "image/png": "[encoded data removed]",
      "text/plain": [
       "<Figure size 360x360 with 1 Axes>"
      ]
     },
     "metadata": {
      "needs_background": "light"
     },
     "output_type": "display_data"
    }
   ],
   "source": [
    "### plot feature importance\n",
    "fig,ax = plt.subplots(figsize=(5,5))\n",
    "plot_importance(model,\n",
    "                height=0.2,\n",
    "                ax=ax,\n",
    "                max_num_features=6)\n",
    "plt.show()"
   ]
  },
  {
   "cell_type": "code",
   "execution_count": 39,
   "metadata": {},
   "outputs": [
    {
     "name": "stdout",
     "output_type": "stream",
     "text": [
      "accuarcy: 97.99941014549745\n"
     ]
    }
   ],
   "source": [
    "### make prediction for test data\n",
    "y_pred = np.round(model.predict_proba(x_valid)[:,1])\n",
    "\n",
    "### model evaluate\n",
    "accuracy = accuracy_score(y_valid, y_pred)\n",
    "print(\"accuarcy: {}\".format((accuracy*100.0)))"
   ]
  },
  {
   "cell_type": "code",
   "execution_count": 40,
   "metadata": {},
   "outputs": [
    {
     "data": {
      "text/plain": [
       "['xgboost.model']"
      ]
     },
     "execution_count": 40,
     "metadata": {},
     "output_type": "execute_result"
    }
   ],
   "source": [
    "joblib.dump(model, 'xgboost.model')  #save model"
   ]
  },
  {
   "cell_type": "markdown",
   "metadata": {},
   "source": [
    "## Test data collection && features generation"
   ]
  },
  {
   "cell_type": "code",
   "execution_count": 41,
   "metadata": {},
   "outputs": [],
   "source": [
    "from test_data_collator import TestDataCollator"
   ]
  },
  {
   "cell_type": "code",
   "execution_count": 42,
   "metadata": {},
   "outputs": [],
   "source": [
    "test_batch = 32\n",
    "test_data_file = \"/data/suyinpei/test_data_1k.tsv\"\n",
    "bert_score_test_root = '/data/suyinpei/bert_score_test.pt'"
   ]
  },
  {
   "cell_type": "code",
   "execution_count": 43,
   "metadata": {},
   "outputs": [],
   "source": [
    "test_data_collator = TestDataCollator(test_data_file)"
   ]
  },
  {
   "cell_type": "code",
   "execution_count": 46,
   "metadata": {},
   "outputs": [
    {
     "name": "stderr",
     "output_type": "stream",
     "text": [
      "11/04/2020 08:08:18 - Encode text: Took 10.39155626296997 seconds\n",
      "11/04/2020 08:08:20 - Encode entity: Took 1.733163595199585 seconds\n"
     ]
    }
   ],
   "source": [
    "test_dataloader = test_data_collator.load_data(test_batch, tokenizer, entity_to_index, index_to_entity, wiki2vec, idf_dict, unk_idf, \n",
    "                                    en_pad_size, en_embd_dim, entity_distribute_dict)"
   ]
  },
  {
   "cell_type": "code",
   "execution_count": 47,
   "metadata": {},
   "outputs": [
    {
     "name": "stderr",
     "output_type": "stream",
     "text": [
      "11/04/2020 08:08:20 - use device: cuda\n",
      "11/04/2020 08:08:20 - use device: cuda\n"
     ]
    }
   ],
   "source": [
    "bert_scorer_test = BertScorer(bert, test_dataloader)\n",
    "entity_scorer_test = EntityScorer(entity_model, test_dataloader)"
   ]
  },
  {
   "cell_type": "code",
   "execution_count": 48,
   "metadata": {},
   "outputs": [
    {
     "name": "stderr",
     "output_type": "stream",
     "text": [
      "Bert Score Progress: 100%|██████████| 32/32 [00:09<00:00,  3.39it/s]\n"
     ]
    }
   ],
   "source": [
    "bert_score_test = bert_scorer_test.generate_score(bert_score_test_root)"
   ]
  },
  {
   "cell_type": "code",
   "execution_count": 49,
   "metadata": {},
   "outputs": [
    {
     "name": "stderr",
     "output_type": "stream",
     "text": [
      "Entity Model Score Progress: 100%|██████████| 32/32 [00:00<00:00, 154.74it/s]\n"
     ]
    }
   ],
   "source": [
    "entity_score_test, entity_distribute_test = entity_scorer_test.generate_score(test=True)"
   ]
  },
  {
   "cell_type": "markdown",
   "metadata": {},
   "source": [
    "## Predict"
   ]
  },
  {
   "cell_type": "code",
   "execution_count": 50,
   "metadata": {},
   "outputs": [],
   "source": [
    "feature_processor = FeatureProcess()"
   ]
  },
  {
   "cell_type": "code",
   "execution_count": 51,
   "metadata": {},
   "outputs": [
    {
     "name": "stderr",
     "output_type": "stream",
     "text": [
      "11/04/2020 08:08:43 - Features shape: torch.Size([999, 3])\n"
     ]
    }
   ],
   "source": [
    "test_features = feature_processor.load_features(bert_score_test_root, entity_score_test, entity_distribute_test)"
   ]
  },
  {
   "cell_type": "code",
   "execution_count": 52,
   "metadata": {},
   "outputs": [],
   "source": [
    "import joblib"
   ]
  },
  {
   "cell_type": "code",
   "execution_count": 53,
   "metadata": {},
   "outputs": [],
   "source": [
    "model = joblib.load('xgboost.model') #load saved model"
   ]
  },
  {
   "cell_type": "code",
   "execution_count": 54,
   "metadata": {},
   "outputs": [],
   "source": [
    "y_pred = model.predict_proba(test_features.numpy())[:,1]"
   ]
  },
  {
   "cell_type": "code",
   "execution_count": 56,
   "metadata": {},
   "outputs": [
    {
     "name": "stderr",
     "output_type": "stream",
     "text": [
      "11/04/2020 08:11:34 - Predict number: 999\n"
     ]
    }
   ],
   "source": [
    "logger.info('Predict number: {}'.format(y_pred.shape[0]))\n",
    "for i in range(2):\n",
    "    f = open(test_data_file)\n",
    "    fout = open('../data/model_predict.tsv','w')\n",
    "    reader = csv.reader(f, delimiter='\\t')\n",
    "    for line, prob in zip(reader, y_pred):\n",
    "        docid = line[0]\n",
    "        fout.write('{}\\t{}\\n'.format(docid, prob))         "
   ]
  },
  {
   "cell_type": "code",
   "execution_count": null,
   "metadata": {},
   "outputs": [],
   "source": []
  }
 ],
 "metadata": {
  "kernelspec": {
   "display_name": "Python 3",
   "language": "python",
   "name": "python3"
  },
  "language_info": {
   "codemirror_mode": {
    "name": "ipython",
    "version": 3
   },
   "file_extension": ".py",
   "mimetype": "text/x-python",
   "name": "python",
   "nbconvert_exporter": "python",
   "pygments_lexer": "ipython3",
   "version": "3.8.5"
  }
 },
 "nbformat": 4,
 "nbformat_minor": 4
}
