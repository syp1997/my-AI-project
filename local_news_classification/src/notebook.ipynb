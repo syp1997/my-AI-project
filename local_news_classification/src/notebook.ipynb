{
 "cells": [
  {
   "cell_type": "code",
   "execution_count": 1,
   "metadata": {},
   "outputs": [],
   "source": [
    "import torch\n",
    "import numpy as np\n",
    "from transformers import BertTokenizer\n",
    "from wikipedia2vec import Wikipedia2Vec\n",
    "import csv\n",
    "import logging\n",
    "import warnings"
   ]
  },
  {
   "cell_type": "code",
   "execution_count": 2,
   "metadata": {},
   "outputs": [],
   "source": [
    "from utils import *\n",
    "from data import DataProcess\n",
    "from model import Model, ModelConfig"
   ]
  },
  {
   "cell_type": "code",
   "execution_count": 3,
   "metadata": {},
   "outputs": [],
   "source": [
    "warnings.filterwarnings('ignore')\n",
    "logger = logging.getLogger(__name__)"
   ]
  },
  {
   "cell_type": "code",
   "execution_count": 4,
   "metadata": {},
   "outputs": [],
   "source": [
    "set_seed(42)\n",
    "device = torch.device('cuda' if torch.cuda.is_available() else 'cpu') # confirm device\n",
    "print('device:', device.type)"
   ]
  },
  {
   "cell_type": "code",
   "execution_count": 5,
   "metadata": {},
   "outputs": [],
   "source": [
    "# use pretrained bert model and tokenizer\n",
    "model_name = 'bert-base-uncased'\n",
    "tokenizer = BertTokenizer.from_pretrained(model_name)"
   ]
  },
  {
   "cell_type": "code",
   "execution_count": 6,
   "metadata": {},
   "outputs": [],
   "source": [
    "# use pretrained wiki_vector model\n",
    "model_file = '/data/suyinpei/wiki_vector.model'\n",
    "wiki2vec = Wikipedia2Vec.load(model_file)"
   ]
  },
  {
   "cell_type": "markdown",
   "metadata": {},
   "source": [
    "## Data process"
   ]
  },
  {
   "cell_type": "code",
   "execution_count": 7,
   "metadata": {},
   "outputs": [],
   "source": [
    "ratio = 0.8 # ratio of train data to valid data\n",
    "batch_size = 32 # batch size\n",
    "en_pad_size = 12 # max entity number of one data\n",
    "en_embd_dim = 100 # entity embedding dim\n",
    "idf_file = '/data/suyinpei/idf_bigram5.txt'\n",
    "entity_frep_file = '/data/suyinpei/entity_frep.tsv'\n",
    "data_root = \"/data/suyinpei/all_data_1028.tsv\" # data: docid, text, entities, label\n",
    "text_id_root = \"/data/suyinpei/text_ids_1028.pt\" # data_size * 512\n",
    "labels_root = \"/data/suyinpei/labels_1028.pt\" # data_size\n",
    "entity_id_root = \"/data/suyinpei/entity_ids_1028.pt\" # data_size * 12\n",
    "entity_length_root = \"/data/suyinpei/entity_length_1028.pt\" # data_size\n",
    "entity_score_root = \"/data/suyinpei/entity_score_1028.pt\" # data_size * 3\n",
    "entity_vector_root = \"/data/suyinpei/entity_vectors_1028.pt\" # en_vocab_size * 100"
   ]
  },
  {
   "cell_type": "code",
   "execution_count": 8,
   "metadata": {},
   "outputs": [],
   "source": [
    "processor = DataProcess(data_root, text_id_root, labels_root, entity_id_root, entity_length_root, entity_score_root)"
   ]
  },
  {
   "cell_type": "code",
   "execution_count": 9,
   "metadata": {},
   "outputs": [
    {
     "name": "stdout",
     "output_type": "stream",
     "text": [
      "Entity Score vocab size:  308750\n"
     ]
    }
   ],
   "source": [
    "idf_dict, unk_idf = processor.load_idf(idf_file)\n",
    "entity_score_dict = processor.load_entity_score_dict(entity_frep_file)"
   ]
  },
  {
   "cell_type": "code",
   "execution_count": 10,
   "metadata": {},
   "outputs": [],
   "source": [
    "# # run this when using new data\n",
    "# all_input_ids, labels = processor.encode_text(tokenizer)"
   ]
  },
  {
   "cell_type": "code",
   "execution_count": 11,
   "metadata": {},
   "outputs": [
    {
     "name": "stdout",
     "output_type": "stream",
     "text": [
      "All Entity number:  7744598\n",
      "Entity vocab size:  1600870\n"
     ]
    }
   ],
   "source": [
    "# get entity vocab for predict\n",
    "entity_to_index, index_to_entity = processor.encode_entity()"
   ]
  },
  {
   "cell_type": "code",
   "execution_count": 12,
   "metadata": {},
   "outputs": [],
   "source": [
    "# # run this when use new data\n",
    "# all_input_ids, labels = processor.encode_text(tokenizer)\n",
    "# build_entity_vector = processor.build_entity_vector(entity_to_index, index_to_entity, wiki2vec, idf_dict, unk_idf, en_embd_dim, entity_vector_root)\n",
    "# all_entity_ids, all_entity_length = processor.build_entity_id(entity_to_index, index_to_entity, en_pad_size)"
   ]
  },
  {
   "cell_type": "code",
   "execution_count": 13,
   "metadata": {},
   "outputs": [
    {
     "name": "stdout",
     "output_type": "stream",
     "text": [
      "Entity score mean:  tensor([[  0.0493, -15.2043,   0.2277]])\n",
      "Entity score std:  tensor([[  6.7894, 332.7149,   2.0418]])\n"
     ]
    }
   ],
   "source": [
    "# get entity score mean and std\n",
    "_, entity_score_mean, entity_score_std = processor.build_entity_score(entity_score_dict)"
   ]
  },
  {
   "cell_type": "code",
   "execution_count": 14,
   "metadata": {},
   "outputs": [
    {
     "name": "stdout",
     "output_type": "stream",
     "text": [
      "Entity vector shape:  torch.Size([1600870, 100])\n"
     ]
    }
   ],
   "source": [
    "entity_vector = processor.load_entity_vector(entity_vector_root) # get pretrained entity_vector"
   ]
  },
  {
   "cell_type": "code",
   "execution_count": 15,
   "metadata": {},
   "outputs": [
    {
     "name": "stdout",
     "output_type": "stream",
     "text": [
      "Num of train_dataloader:  12715\n",
      "Num of valid_dataloader:  3179\n"
     ]
    }
   ],
   "source": [
    "train_dataloader, valid_dataloader = processor.load_data(ratio, batch_size) # build train/valid dataloader"
   ]
  },
  {
   "cell_type": "markdown",
   "metadata": {},
   "source": [
    "## Model"
   ]
  },
  {
   "cell_type": "code",
   "execution_count": 16,
   "metadata": {},
   "outputs": [],
   "source": [
    "mconf = ModelConfig(model_name, entity_vector, en_embd_dim, en_hidden_size1=128, \n",
    "                    en_hidden_size2=128, en_score_dim=3, use_en_encoder=True)"
   ]
  },
  {
   "cell_type": "code",
   "execution_count": 17,
   "metadata": {},
   "outputs": [],
   "source": [
    "model = Model(mconf)"
   ]
  },
  {
   "cell_type": "code",
   "execution_count": null,
   "metadata": {},
   "outputs": [],
   "source": []
  },
  {
   "cell_type": "code",
   "execution_count": null,
   "metadata": {},
   "outputs": [],
   "source": []
  }
 ],
 "metadata": {
  "kernelspec": {
   "display_name": "Python 3",
   "language": "python",
   "name": "python3"
  },
  "language_info": {
   "codemirror_mode": {
    "name": "ipython",
    "version": 3
   },
   "file_extension": ".py",
   "mimetype": "text/x-python",
   "name": "python",
   "nbconvert_exporter": "python",
   "pygments_lexer": "ipython3",
   "version": "3.8.5"
  }
 },
 "nbformat": 4,
 "nbformat_minor": 4
}
