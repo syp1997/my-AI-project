{
 "cells": [
  {
   "cell_type": "code",
   "execution_count": 1,
   "metadata": {},
   "outputs": [],
   "source": [
    "import torch\n",
    "import numpy as np\n",
    "from transformers import BertTokenizer\n",
    "from wikipedia2vec import Wikipedia2Vec\n",
    "import time\n",
    "import csv\n",
    "import warnings\n",
    "import logging"
   ]
  },
  {
   "cell_type": "code",
   "execution_count": 2,
   "metadata": {},
   "outputs": [],
   "source": [
    "from utils import *\n",
    "from data_processor import DataProcess"
   ]
  },
  {
   "cell_type": "code",
   "execution_count": 3,
   "metadata": {},
   "outputs": [],
   "source": [
    "torch.set_printoptions(\n",
    "    sci_mode=False  # 用科学技术法显示数据，默认True\n",
    ")\n",
    "np.set_printoptions(\n",
    "    suppress=True\n",
    ")"
   ]
  },
  {
   "cell_type": "code",
   "execution_count": 4,
   "metadata": {},
   "outputs": [],
   "source": [
    "warnings.filterwarnings('ignore')\n",
    "logging.basicConfig(\n",
    "        format=\"%(asctime)s - %(message)s\",\n",
    "        datefmt=\"%m/%d/%Y %H:%M:%S\",\n",
    "        level=logging.INFO,\n",
    ")\n",
    "logger = logging.getLogger(__name__)"
   ]
  },
  {
   "cell_type": "code",
   "execution_count": 5,
   "metadata": {},
   "outputs": [],
   "source": [
    "set_seed(42)"
   ]
  },
  {
   "cell_type": "code",
   "execution_count": 6,
   "metadata": {},
   "outputs": [],
   "source": [
    "# use pretrained bert model and tokenizer\n",
    "model_name = 'bert-base-uncased'\n",
    "tokenizer = BertTokenizer.from_pretrained(model_name)"
   ]
  },
  {
   "cell_type": "code",
   "execution_count": 7,
   "metadata": {},
   "outputs": [],
   "source": [
    "# use pretrained wiki_vector model\n",
    "model_file = '/data/suyinpei/wiki_vector.model'\n",
    "wiki2vec = Wikipedia2Vec.load(model_file)"
   ]
  },
  {
   "cell_type": "markdown",
   "metadata": {},
   "source": [
    "## Data process"
   ]
  },
  {
   "cell_type": "code",
   "execution_count": 8,
   "metadata": {},
   "outputs": [],
   "source": [
    "batch_size = 32 # batch size\n",
    "en_pad_size = 12 # max entity number of one data\n",
    "en_embd_dim = 100 # entity embedding dim\n",
    "idf_file = '/data/suyinpei/idf_bigram5.txt'\n",
    "entity_frep_file = '/data/suyinpei/entity_frep.tsv'\n",
    "domain_frep_file = '/data/suyinpei/domain_frep.tsv'\n",
    "keyword_entropy_file = '/data/suyinpei/keywords_entropy.tsv'\n",
    "data_root = \"/data/suyinpei/all_data_1107.tsv\" # data: docid, text, entities, label\n",
    "text_id_root = \"/data/suyinpei/text_ids_1028.pt\" # data_size * 512\n",
    "labels_root = \"/data/suyinpei/labels_1028.pt\" # data_size\n",
    "entity_id_root = \"/data/suyinpei/entity_ids_1028.pt\" # data_size * 12\n",
    "entity_length_root = \"/data/suyinpei/entity_length_1028.pt\" # data_size\n",
    "entity_vector_root = \"/data/suyinpei/entity_vectors_1028.pt\" # en_vocab_size * 100\n",
    "entity_score_root = \"/data/suyinpei/entity_score_1106.pt\" # data_size\n",
    "keyword_entropy_root = \"/data/suyinpei/keyword_entropy_1107.pt\" # data_size\n",
    "domain_score_root = \"/data/suyinpei/domain_score_1106.pt\" # data_size"
   ]
  },
  {
   "cell_type": "code",
   "execution_count": 9,
   "metadata": {},
   "outputs": [],
   "source": [
    "processor = DataProcess(data_root, text_id_root, labels_root, \n",
    "                        entity_id_root, entity_length_root, \n",
    "                        entity_score_root, keyword_entropy_root,\n",
    "                        domain_score_root)"
   ]
  },
  {
   "cell_type": "code",
   "execution_count": 10,
   "metadata": {},
   "outputs": [
    {
     "name": "stderr",
     "output_type": "stream",
     "text": [
      "11/09/2020 08:44:50 - keyword entropy vocab size: 202919\n"
     ]
    }
   ],
   "source": [
    "keyword_entropy_dict = processor.load_keyword_entropy_dict(keyword_entropy_file)"
   ]
  },
  {
   "cell_type": "code",
   "execution_count": 11,
   "metadata": {},
   "outputs": [],
   "source": [
    "# # run this when using new data, build text index and label\n",
    "# all_input_ids, labels = processor.encode_text(tokenizer)"
   ]
  },
  {
   "cell_type": "code",
   "execution_count": 12,
   "metadata": {},
   "outputs": [],
   "source": [
    "# # run this when use new data, build entity vector and index\n",
    "# entity_to_index, index_to_entity = processor.build_entity_vocab()\n",
    "# idf_dict, unk_idf = processor.load_idf(idf_file)\n",
    "# build_entity_vector = processor.build_entity_vector(entity_to_index, index_to_entity, \n",
    "#                                                     wiki2vec, idf_dict, unk_idf, \n",
    "#                                                     en_embd_dim, entity_vector_root)\n",
    "# all_entity_ids, all_entity_length = processor.build_entity_id(entity_to_index, \n",
    "#                                                               index_to_entity, \n",
    "#                                                               en_pad_size)"
   ]
  },
  {
   "cell_type": "code",
   "execution_count": 13,
   "metadata": {},
   "outputs": [],
   "source": [
    "# # run this when use new data, build entity score\n",
    "# entity_score = processor.build_entity_score(entity_frep_file)"
   ]
  },
  {
   "cell_type": "code",
   "execution_count": 14,
   "metadata": {},
   "outputs": [],
   "source": [
    "# # run this when use new data, build keywords entropy\n",
    "# keyword_entropy = processor.build_keyword_entropy(keyword_entropy_file)"
   ]
  },
  {
   "cell_type": "code",
   "execution_count": 15,
   "metadata": {},
   "outputs": [],
   "source": [
    "# # run this when use new data, build domain score\n",
    "# domain_score = processor.build_domain_score(domain_frep_file)"
   ]
  },
  {
   "cell_type": "code",
   "execution_count": 16,
   "metadata": {},
   "outputs": [
    {
     "name": "stderr",
     "output_type": "stream",
     "text": [
      "11/09/2020 08:46:16 - Entity vector shape: torch.Size([1600870, 100])\n"
     ]
    }
   ],
   "source": [
    "entity_vector = processor.load_entity_vector(entity_vector_root) # get pretrained entity_vector"
   ]
  },
  {
   "cell_type": "code",
   "execution_count": 17,
   "metadata": {},
   "outputs": [
    {
     "name": "stderr",
     "output_type": "stream",
     "text": [
      "11/09/2020 08:46:18 - Num of all_dataloader: 15894\n",
      "11/09/2020 08:46:18 - Num of train_dataloader: 12715\n",
      "11/09/2020 08:46:18 - Num of valid_dataloader: 3179\n"
     ]
    }
   ],
   "source": [
    "all_dataloader, train_dataloader, valid_dataloader = processor.load_data(ratio=0.8, batch_size=32) # build train/valid dataloader"
   ]
  },
  {
   "cell_type": "markdown",
   "metadata": {},
   "source": [
    "## Bert Model"
   ]
  },
  {
   "cell_type": "code",
   "execution_count": 18,
   "metadata": {},
   "outputs": [],
   "source": [
    "from model import Model, ModelConfig"
   ]
  },
  {
   "cell_type": "code",
   "execution_count": 19,
   "metadata": {},
   "outputs": [],
   "source": [
    "mconf = ModelConfig(model_name, entity_vector, \n",
    "                    en_embd_dim, en_hidden_size1=128, \n",
    "                    en_hidden_size2=128, use_en_encoder=True)"
   ]
  },
  {
   "cell_type": "code",
   "execution_count": 20,
   "metadata": {},
   "outputs": [],
   "source": [
    "bert = Model(mconf)"
   ]
  },
  {
   "cell_type": "code",
   "execution_count": 21,
   "metadata": {},
   "outputs": [
    {
     "name": "stderr",
     "output_type": "stream",
     "text": [
      "11/09/2020 08:46:25 - Model : all params: 269.601569M\n",
      "11/09/2020 08:46:25 - Model : need grad params: 7.710793M\n"
     ]
    }
   ],
   "source": [
    "bert.fix_layer_grad(fix_layer=11)"
   ]
  },
  {
   "cell_type": "markdown",
   "metadata": {},
   "source": [
    "## Bert Training"
   ]
  },
  {
   "cell_type": "code",
   "execution_count": 22,
   "metadata": {},
   "outputs": [],
   "source": [
    "from trainer import Trainer, TrainerConfig"
   ]
  },
  {
   "cell_type": "code",
   "execution_count": 19,
   "metadata": {},
   "outputs": [
    {
     "name": "stdout",
     "output_type": "stream",
     "text": [
      "max_epochs 1\n",
      "learning_rate 0.0006\n",
      "lr_decay True\n",
      "warmup_tokens 6400\n",
      "final_tokens 406880\n",
      "num_workers 1\n",
      "ckpt_path ../models/bert_model.pt\n"
     ]
    }
   ],
   "source": [
    "tconf = TrainerConfig(max_epochs=1, learning_rate=6e-4, lr_decay=True, \n",
    "                      warmup_tokens=32*200, final_tokens=1*batch_size*len(train_dataloader),\n",
    "                      num_workers=1, ckpt_path='../models/bert_model.pt')"
   ]
  },
  {
   "cell_type": "code",
   "execution_count": 20,
   "metadata": {},
   "outputs": [
    {
     "name": "stderr",
     "output_type": "stream",
     "text": [
      "11/05/2020 10:04:50 - use device: cuda\n"
     ]
    }
   ],
   "source": [
    "trainer = Trainer(bert, train_dataloader, valid_dataloader, tconf)"
   ]
  },
  {
   "cell_type": "code",
   "execution_count": 22,
   "metadata": {},
   "outputs": [],
   "source": [
    "# start training\n",
    "trainer.train()"
   ]
  },
  {
   "cell_type": "markdown",
   "metadata": {},
   "source": [
    "## XGBoost Feature generate"
   ]
  },
  {
   "cell_type": "code",
   "execution_count": 23,
   "metadata": {},
   "outputs": [],
   "source": [
    "from feature_extrator import FeatureExtrator"
   ]
  },
  {
   "cell_type": "code",
   "execution_count": 24,
   "metadata": {},
   "outputs": [
    {
     "data": {
      "text/plain": [
       "<All keys matched successfully>"
      ]
     },
     "execution_count": 24,
     "metadata": {},
     "output_type": "execute_result"
    }
   ],
   "source": [
    "#load model\n",
    "bert.load_state_dict(torch.load('../models/bert_model.pt'))"
   ]
  },
  {
   "cell_type": "code",
   "execution_count": 25,
   "metadata": {},
   "outputs": [
    {
     "name": "stderr",
     "output_type": "stream",
     "text": [
      "11/09/2020 08:46:39 - use device: cuda\n"
     ]
    }
   ],
   "source": [
    "feature_extrator = FeatureExtrator(bert, valid_dataloader)"
   ]
  },
  {
   "cell_type": "code",
   "execution_count": 26,
   "metadata": {},
   "outputs": [],
   "source": [
    "bert_score_root = '/data/suyinpei/bert_score_1106.pt'"
   ]
  },
  {
   "cell_type": "code",
   "execution_count": 27,
   "metadata": {},
   "outputs": [],
   "source": [
    "# bert_score = feature_extrator.generate_score(bert_score_root)"
   ]
  },
  {
   "cell_type": "code",
   "execution_count": 28,
   "metadata": {},
   "outputs": [],
   "source": [
    "bert_score, entity_score, keyword_entropy, domain_score= feature_extrator.get_features(bert_score_root)\n",
    "data_labels = feature_extrator.get_labels()"
   ]
  },
  {
   "cell_type": "code",
   "execution_count": 29,
   "metadata": {},
   "outputs": [],
   "source": [
    "class FeatureProcess():\n",
    "    \n",
    "    def __init__(self):\n",
    "        pass\n",
    "    \n",
    "    def load_features(self, bert_score, entity_score, keyword_entropy, domain_score):\n",
    "        bert_score = bert_score.unsqueeze(-1).to('cpu')\n",
    "        entity_score = entity_score.unsqueeze(-1)\n",
    "        keyword_entropy = keyword_entropy.unsqueeze(-1)\n",
    "        domain_score = domain_score.unsqueeze(-1)\n",
    "        features = torch.cat([bert_score, entity_score, keyword_entropy],dim=1)\n",
    "        logger.info(\"Features shape: {}\".format(features.shape))\n",
    "        return features\n",
    "    \n",
    "    def load_labels(self, labels):\n",
    "        return labels.view(labels.shape[0],-1)"
   ]
  },
  {
   "cell_type": "code",
   "execution_count": 30,
   "metadata": {},
   "outputs": [],
   "source": [
    "feature_processor = FeatureProcess()"
   ]
  },
  {
   "cell_type": "code",
   "execution_count": 31,
   "metadata": {},
   "outputs": [
    {
     "name": "stderr",
     "output_type": "stream",
     "text": [
      "11/09/2020 08:46:46 - Features shape: torch.Size([101716, 3])\n"
     ]
    }
   ],
   "source": [
    "features = feature_processor.load_features(bert_score, entity_score, keyword_entropy, domain_score)\n",
    "labels = feature_processor.load_labels(data_labels)"
   ]
  },
  {
   "cell_type": "markdown",
   "metadata": {},
   "source": [
    "## Xgboost Training"
   ]
  },
  {
   "cell_type": "code",
   "execution_count": 29,
   "metadata": {},
   "outputs": [],
   "source": [
    "import xgboost\n",
    "from xgboost import XGBClassifier\n",
    "from xgboost import plot_importance\n",
    "from sklearn.model_selection import train_test_split\n",
    "from sklearn.metrics import accuracy_score\n",
    "import matplotlib.pyplot as plt\n",
    "import joblib"
   ]
  },
  {
   "cell_type": "code",
   "execution_count": 30,
   "metadata": {},
   "outputs": [],
   "source": [
    "x_train,x_valid,y_train,y_valid = train_test_split(features.numpy(), labels.numpy(),test_size = 0.2, random_state = 33)"
   ]
  },
  {
   "cell_type": "code",
   "execution_count": 31,
   "metadata": {},
   "outputs": [],
   "source": [
    "### fit model for train data\n",
    "model = XGBClassifier(learning_rate=0.1,\n",
    "                      n_estimators=100,          # 树的个数--1000棵树建立xgboost\n",
    "                      max_depth=6,               # 树的深度\n",
    "                      min_child_weight = 1,      # 叶子节点最小权重\n",
    "                      gamma=0.,                  # 惩罚项中叶子结点个数前的参数\n",
    "                      subsample=0.8,             # 随机选择80%样本建立决策树\n",
    "                      objective='binary:logistic', # 指定损失函数\n",
    "                      scale_pos_weight=1,        # 解决样本个数不平衡的问题\n",
    "                      random_state=27            # 随机数\n",
    "                      )"
   ]
  },
  {
   "cell_type": "code",
   "execution_count": 32,
   "metadata": {},
   "outputs": [
    {
     "name": "stdout",
     "output_type": "stream",
     "text": [
      "[0]\tvalidation_0-logloss:0.60451\n",
      "Will train until validation_0-logloss hasn't improved in 10 rounds.\n",
      "[1]\tvalidation_0-logloss:0.53195\n",
      "[2]\tvalidation_0-logloss:0.47144\n",
      "[3]\tvalidation_0-logloss:0.42035\n",
      "[4]\tvalidation_0-logloss:0.37682\n",
      "[5]\tvalidation_0-logloss:0.33939\n",
      "[6]\tvalidation_0-logloss:0.30698\n",
      "[7]\tvalidation_0-logloss:0.27878\n",
      "[8]\tvalidation_0-logloss:0.25417\n",
      "[9]\tvalidation_0-logloss:0.23254\n",
      "[10]\tvalidation_0-logloss:0.21356\n",
      "[11]\tvalidation_0-logloss:0.19678\n",
      "[12]\tvalidation_0-logloss:0.18197\n",
      "[13]\tvalidation_0-logloss:0.16885\n",
      "[14]\tvalidation_0-logloss:0.15726\n",
      "[15]\tvalidation_0-logloss:0.14690\n",
      "[16]\tvalidation_0-logloss:0.13770\n",
      "[17]\tvalidation_0-logloss:0.12955\n",
      "[18]\tvalidation_0-logloss:0.12225\n",
      "[19]\tvalidation_0-logloss:0.11580\n",
      "[20]\tvalidation_0-logloss:0.10997\n",
      "[21]\tvalidation_0-logloss:0.10481\n",
      "[22]\tvalidation_0-logloss:0.10020\n",
      "[23]\tvalidation_0-logloss:0.09608\n",
      "[24]\tvalidation_0-logloss:0.09237\n",
      "[25]\tvalidation_0-logloss:0.08914\n",
      "[26]\tvalidation_0-logloss:0.08617\n",
      "[27]\tvalidation_0-logloss:0.08354\n",
      "[28]\tvalidation_0-logloss:0.08121\n",
      "[29]\tvalidation_0-logloss:0.07915\n",
      "[30]\tvalidation_0-logloss:0.07730\n",
      "[31]\tvalidation_0-logloss:0.07561\n",
      "[32]\tvalidation_0-logloss:0.07412\n",
      "[33]\tvalidation_0-logloss:0.07278\n",
      "[34]\tvalidation_0-logloss:0.07160\n",
      "[35]\tvalidation_0-logloss:0.07057\n",
      "[36]\tvalidation_0-logloss:0.06963\n",
      "[37]\tvalidation_0-logloss:0.06882\n",
      "[38]\tvalidation_0-logloss:0.06810\n",
      "[39]\tvalidation_0-logloss:0.06749\n",
      "[40]\tvalidation_0-logloss:0.06691\n",
      "[41]\tvalidation_0-logloss:0.06642\n",
      "[42]\tvalidation_0-logloss:0.06597\n",
      "[43]\tvalidation_0-logloss:0.06557\n",
      "[44]\tvalidation_0-logloss:0.06527\n",
      "[45]\tvalidation_0-logloss:0.06495\n",
      "[46]\tvalidation_0-logloss:0.06469\n",
      "[47]\tvalidation_0-logloss:0.06448\n",
      "[48]\tvalidation_0-logloss:0.06428\n",
      "[49]\tvalidation_0-logloss:0.06409\n",
      "[50]\tvalidation_0-logloss:0.06396\n",
      "[51]\tvalidation_0-logloss:0.06381\n",
      "[52]\tvalidation_0-logloss:0.06370\n",
      "[53]\tvalidation_0-logloss:0.06356\n",
      "[54]\tvalidation_0-logloss:0.06345\n",
      "[55]\tvalidation_0-logloss:0.06338\n",
      "[56]\tvalidation_0-logloss:0.06334\n",
      "[57]\tvalidation_0-logloss:0.06324\n",
      "[58]\tvalidation_0-logloss:0.06319\n",
      "[59]\tvalidation_0-logloss:0.06313\n",
      "[60]\tvalidation_0-logloss:0.06314\n",
      "[61]\tvalidation_0-logloss:0.06312\n",
      "[62]\tvalidation_0-logloss:0.06310\n",
      "[63]\tvalidation_0-logloss:0.06310\n",
      "[64]\tvalidation_0-logloss:0.06309\n",
      "[65]\tvalidation_0-logloss:0.06308\n",
      "[66]\tvalidation_0-logloss:0.06308\n",
      "[67]\tvalidation_0-logloss:0.06307\n",
      "[68]\tvalidation_0-logloss:0.06305\n",
      "[69]\tvalidation_0-logloss:0.06305\n",
      "[70]\tvalidation_0-logloss:0.06305\n",
      "[71]\tvalidation_0-logloss:0.06307\n",
      "[72]\tvalidation_0-logloss:0.06307\n",
      "[73]\tvalidation_0-logloss:0.06308\n",
      "[74]\tvalidation_0-logloss:0.06307\n",
      "[75]\tvalidation_0-logloss:0.06309\n",
      "[76]\tvalidation_0-logloss:0.06310\n",
      "[77]\tvalidation_0-logloss:0.06308\n",
      "[78]\tvalidation_0-logloss:0.06310\n",
      "Stopping. Best iteration:\n",
      "[68]\tvalidation_0-logloss:0.06305\n",
      "\n"
     ]
    },
    {
     "data": {
      "text/plain": [
       "XGBClassifier(base_score=0.5, booster='gbtree', colsample_bylevel=1,\n",
       "              colsample_bynode=1, colsample_bytree=1, gamma=0.0, gpu_id=-1,\n",
       "              importance_type='gain', interaction_constraints='',\n",
       "              learning_rate=0.1, max_delta_step=0, max_depth=6,\n",
       "              min_child_weight=1, missing=nan, monotone_constraints='()',\n",
       "              n_estimators=100, n_jobs=0, num_parallel_tree=1, random_state=27,\n",
       "              reg_alpha=0, reg_lambda=1, scale_pos_weight=1, subsample=0.8,\n",
       "              tree_method='exact', validate_parameters=1, verbosity=None)"
      ]
     },
     "execution_count": 32,
     "metadata": {},
     "output_type": "execute_result"
    }
   ],
   "source": [
    "model.fit(x_train,\n",
    "          y_train,\n",
    "          eval_set = [(x_valid,y_valid)],\n",
    "          eval_metric = \"logloss\",\n",
    "          early_stopping_rounds = 10,\n",
    "          verbose = True)"
   ]
  },
  {
   "cell_type": "code",
   "execution_count": 33,
   "metadata": {},
   "outputs": [
    {
     "data": {
      "image/png": "[encoded data removed]",
      "text/plain": [
       "<Figure size 360x360 with 1 Axes>"
      ]
     },
     "metadata": {
      "needs_background": "light"
     },
     "output_type": "display_data"
    }
   ],
   "source": [
    "### plot feature importance\n",
    "fig,ax = plt.subplots(figsize=(5,5))\n",
    "plot_importance(model,\n",
    "                height=0.2,\n",
    "                ax=ax,\n",
    "                max_num_features=6)\n",
    "plt.show()"
   ]
  },
  {
   "cell_type": "code",
   "execution_count": 34,
   "metadata": {},
   "outputs": [
    {
     "name": "stdout",
     "output_type": "stream",
     "text": [
      "accuarcy: 97.915847424302\n"
     ]
    }
   ],
   "source": [
    "### make prediction for test data\n",
    "y_pred = np.round(model.predict_proba(x_valid)[:,1])\n",
    "\n",
    "### model evaluate\n",
    "accuracy = accuracy_score(y_valid, y_pred)\n",
    "print(\"accuarcy: {}\".format((accuracy*100.0)))"
   ]
  },
  {
   "cell_type": "code",
   "execution_count": 35,
   "metadata": {},
   "outputs": [
    {
     "data": {
      "text/plain": [
       "['xgboost.model']"
      ]
     },
     "execution_count": 35,
     "metadata": {},
     "output_type": "execute_result"
    }
   ],
   "source": [
    "joblib.dump(model, 'xgboost.model')  #save model"
   ]
  },
  {
   "cell_type": "markdown",
   "metadata": {},
   "source": [
    "## Test data collection && features generation"
   ]
  },
  {
   "cell_type": "code",
   "execution_count": 32,
   "metadata": {},
   "outputs": [],
   "source": [
    "from feature_extrator import FeatureExtrator\n",
    "from test_data_collator import TestDataCollator"
   ]
  },
  {
   "cell_type": "code",
   "execution_count": 33,
   "metadata": {},
   "outputs": [
    {
     "name": "stderr",
     "output_type": "stream",
     "text": [
      "11/09/2020 08:47:19 - All Entity number: 7744598\n",
      "11/09/2020 08:47:27 - Entity vocab size: 1600870\n",
      "11/09/2020 08:48:11 - Load success!\n"
     ]
    }
   ],
   "source": [
    "entity_to_index, index_to_entity = processor.build_entity_vocab()\n",
    "idf_dict, unk_idf = processor.load_idf(idf_file)"
   ]
  },
  {
   "cell_type": "code",
   "execution_count": 34,
   "metadata": {},
   "outputs": [],
   "source": [
    "test_batch = 32\n",
    "test_data_file = \"/data/suyinpei/test_data_1k.tsv\""
   ]
  },
  {
   "cell_type": "code",
   "execution_count": 35,
   "metadata": {},
   "outputs": [],
   "source": [
    "test_data_collator = TestDataCollator(test_data_file)"
   ]
  },
  {
   "cell_type": "code",
   "execution_count": 36,
   "metadata": {},
   "outputs": [
    {
     "name": "stderr",
     "output_type": "stream",
     "text": [
      "11/09/2020 08:48:21 - Encode text: Took 10.492053747177124 seconds\n",
      "11/09/2020 08:48:23 - Entity score vocab size: 667095\n",
      "11/09/2020 08:48:23 - keyword entropy vocab size: 202919\n",
      "11/09/2020 08:48:23 - domain score vocab size: 15942\n",
      "11/09/2020 08:48:25 - Encode other features: Took 4.130496978759766 seconds\n"
     ]
    }
   ],
   "source": [
    "test_dataloader = test_data_collator.load_data(test_batch, tokenizer, \n",
    "                                               entity_to_index, index_to_entity, \n",
    "                                               wiki2vec, idf_dict, unk_idf, \n",
    "                                               en_pad_size, en_embd_dim, \n",
    "                                               entity_frep_file, keyword_entropy_file, \n",
    "                                               domain_frep_file)"
   ]
  },
  {
   "cell_type": "code",
   "execution_count": 37,
   "metadata": {},
   "outputs": [
    {
     "data": {
      "text/plain": [
       "<All keys matched successfully>"
      ]
     },
     "execution_count": 37,
     "metadata": {},
     "output_type": "execute_result"
    }
   ],
   "source": [
    "#load model\n",
    "bert.load_state_dict(torch.load('../models/bert_model.pt'))"
   ]
  },
  {
   "cell_type": "code",
   "execution_count": 38,
   "metadata": {},
   "outputs": [
    {
     "name": "stderr",
     "output_type": "stream",
     "text": [
      "11/09/2020 08:48:26 - use device: cuda\n"
     ]
    }
   ],
   "source": [
    "test_feature_extrator = FeatureExtrator(bert, test_dataloader)"
   ]
  },
  {
   "cell_type": "code",
   "execution_count": 39,
   "metadata": {},
   "outputs": [],
   "source": [
    "bert_score_test_root = '/data/suyinpei/bert_score_test.pt'"
   ]
  },
  {
   "cell_type": "code",
   "execution_count": 40,
   "metadata": {},
   "outputs": [
    {
     "name": "stderr",
     "output_type": "stream",
     "text": [
      "Test Progress: 100%|██████████| 32/32 [00:10<00:00,  3.05it/s]\n",
      "11/09/2020 08:48:37 - Saved success to /data/suyinpei/bert_score_test.pt\n"
     ]
    }
   ],
   "source": [
    "bert_score_test = test_feature_extrator.generate_score(bert_score_test_root, test=True)"
   ]
  },
  {
   "cell_type": "code",
   "execution_count": 41,
   "metadata": {},
   "outputs": [],
   "source": [
    "bert_score_test, entity_score_test, keyword_entropy_test, domain_score_test = test_feature_extrator.get_features(bert_score_test_root)"
   ]
  },
  {
   "cell_type": "code",
   "execution_count": 42,
   "metadata": {},
   "outputs": [],
   "source": [
    "test_feature_processor = FeatureProcess()"
   ]
  },
  {
   "cell_type": "code",
   "execution_count": 43,
   "metadata": {},
   "outputs": [
    {
     "name": "stderr",
     "output_type": "stream",
     "text": [
      "11/09/2020 08:57:30 - Features shape: torch.Size([999, 3])\n"
     ]
    }
   ],
   "source": [
    "test_features = test_feature_processor.load_features(bert_score_test, entity_score_test, keyword_entropy_test, domain_score_test)"
   ]
  },
  {
   "cell_type": "markdown",
   "metadata": {},
   "source": [
    "## Get final score"
   ]
  },
  {
   "cell_type": "code",
   "execution_count": 44,
   "metadata": {},
   "outputs": [],
   "source": [
    "import joblib"
   ]
  },
  {
   "cell_type": "code",
   "execution_count": 45,
   "metadata": {},
   "outputs": [],
   "source": [
    "model = joblib.load('xgboost.model_1') #load saved model"
   ]
  },
  {
   "cell_type": "code",
   "execution_count": 46,
   "metadata": {},
   "outputs": [],
   "source": [
    "y_pred = model.predict_proba(test_features.numpy())[:,1]"
   ]
  },
  {
   "cell_type": "code",
   "execution_count": 47,
   "metadata": {},
   "outputs": [
    {
     "name": "stderr",
     "output_type": "stream",
     "text": [
      "11/09/2020 08:57:35 - Predict number: 999\n"
     ]
    }
   ],
   "source": [
    "logger.info('Predict number: {}'.format(y_pred.shape[0]))\n",
    "for i in range(2):\n",
    "    f = open(test_data_file)\n",
    "    fout = open('../data/model_predict.tsv','w')\n",
    "    reader = csv.reader(f, delimiter='\\t')\n",
    "    for line, prob in zip(reader, y_pred):\n",
    "        docid = line[0]\n",
    "        fout.write('{}\\t{}\\n'.format(docid, prob))         "
   ]
  },
  {
   "cell_type": "code",
   "execution_count": 48,
   "metadata": {},
   "outputs": [],
   "source": [
    "index = []"
   ]
  },
  {
   "cell_type": "code",
   "execution_count": 49,
   "metadata": {},
   "outputs": [],
   "source": [
    "for i in range(999):\n",
    "    a = 0.2<test_features[i,0]\n",
    "    b = test_features[i,0]<0.8\n",
    "    if a and b:\n",
    "        index.append(i)"
   ]
  },
  {
   "cell_type": "code",
   "execution_count": 53,
   "metadata": {},
   "outputs": [],
   "source": [
    "s = 0"
   ]
  },
  {
   "cell_type": "code",
   "execution_count": 54,
   "metadata": {},
   "outputs": [
    {
     "data": {
      "text/plain": [
       "[3, 27, 53, 60, 69, 71, 72, 80, 124, 132]"
      ]
     },
     "execution_count": 54,
     "metadata": {},
     "output_type": "execute_result"
    }
   ],
   "source": [
    "index[s:s+10]"
   ]
  },
  {
   "cell_type": "code",
   "execution_count": 55,
   "metadata": {},
   "outputs": [
    {
     "data": {
      "text/plain": [
       "tensor([[     0.3436,    -11.9761,     25.9617],\n",
       "        [     0.5776,      1.4764,     89.1100],\n",
       "        [     0.7748,      1.7747,     21.3239],\n",
       "        [     0.5903,     -0.4660,     97.7555],\n",
       "        [     0.6337,     -2.1529,     93.6346],\n",
       "        [     0.2801,     -1.4363,      7.2932],\n",
       "        [     0.7731,      3.5968,     13.2260],\n",
       "        [     0.3948,     -0.9179,    177.1662],\n",
       "        [     0.7166,      0.0000,     39.6399],\n",
       "        [     0.2626,     -6.5270,     35.6581]])"
      ]
     },
     "execution_count": 55,
     "metadata": {},
     "output_type": "execute_result"
    }
   ],
   "source": [
    "test_features[index[s:s+10]]"
   ]
  },
  {
   "cell_type": "code",
   "execution_count": 56,
   "metadata": {},
   "outputs": [
    {
     "data": {
      "text/plain": [
       "array([0.01493915, 0.9402376 , 0.95184326, 0.15681873, 0.06485668,\n",
       "       0.02616346, 0.9098629 , 0.08050986, 0.3390008 , 0.00602266],\n",
       "      dtype=float32)"
      ]
     },
     "execution_count": 56,
     "metadata": {},
     "output_type": "execute_result"
    }
   ],
   "source": [
    "y_pred[index[s:s+10]]"
   ]
  },
  {
   "cell_type": "code",
   "execution_count": null,
   "metadata": {},
   "outputs": [],
   "source": []
  },
  {
   "cell_type": "code",
   "execution_count": null,
   "metadata": {},
   "outputs": [],
   "source": []
  }
 ],
 "metadata": {
  "kernelspec": {
   "display_name": "Python 3",
   "language": "python",
   "name": "python3"
  },
  "language_info": {
   "codemirror_mode": {
    "name": "ipython",
    "version": 3
   },
   "file_extension": ".py",
   "mimetype": "text/x-python",
   "name": "python",
   "nbconvert_exporter": "python",
   "pygments_lexer": "ipython3",
   "version": "3.8.5"
  }
 },
 "nbformat": 4,
 "nbformat_minor": 4
}
