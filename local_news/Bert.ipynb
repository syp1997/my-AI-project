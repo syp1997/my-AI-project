{
 "cells": [
  {
   "cell_type": "code",
   "execution_count": 12,
   "metadata": {},
   "outputs": [],
   "source": [
    "import torch\n",
    "import csv \n",
    "from torch.utils.data import TensorDataset, DataLoader, random_split\n",
    "import torch.nn as nn\n",
    "import torch.nn.functional as F\n",
    "import transformers\n",
    "# from transformers import BertModel, BertTokenizer\n",
    "# from transformers import AdamW\n",
    "# from transformers import get_linear_schedule_with_warmup\n",
    "device = torch.device('cuda' if torch.cuda.is_available() else 'cpu')\n",
    "device"
   ]
  },
  {
   "cell_type": "code",
   "execution_count": 69,
   "metadata": {},
   "outputs": [],
   "source": [
    "model_name = 'bert-base-uncased'\n",
    "tokenizer = BertTokenizer.from_pretrained(model_name)\n",
    "bert_model = BertModel.from_pretrained(model_name)"
   ]
  },
  {
   "cell_type": "code",
   "execution_count": 70,
   "metadata": {},
   "outputs": [],
   "source": [
    "def prepare_data(filename):\n",
    "    text_list = []\n",
    "    label_list = []\n",
    "    f = open(filename, 'r')\n",
    "    reader = csv.reader(f, delimiter='\\t')\n",
    "    for line in reader:\n",
    "        text_list.append(line[0])\n",
    "        label_list.append(int(line[1]))\n",
    "    return text_list, label_list"
   ]
  },
  {
   "cell_type": "code",
   "execution_count": 71,
   "metadata": {},
   "outputs": [],
   "source": [
    "# Function to get token ids for a list of texts \n",
    "def encode_fn(text_list):\n",
    "    all_input_ids = []    \n",
    "    for text in text_list:\n",
    "        input_ids = tokenizer.encode(\n",
    "                        text,                      \n",
    "                        add_special_tokens = True,  \n",
    "                        max_length = 512,           \n",
    "                        truncation=True,\n",
    "                        pad_to_max_length = True,     \n",
    "                        return_tensors = 'pt'       \n",
    "                   )\n",
    "        all_input_ids.append(input_ids)    \n",
    "    all_input_ids = torch.cat(all_input_ids, dim=0)\n",
    "    return all_input_ids"
   ]
  },
  {
   "cell_type": "code",
   "execution_count": 72,
   "metadata": {},
   "outputs": [],
   "source": [
    "def split_data(ratio, batch_size, filename):\n",
    "    \n",
    "    text_list, label_list = prepare_data(filename)\n",
    "    all_input_ids = encode_fn(text_list)\n",
    "    labels = torch.tensor(label_list, dtype=torch.float)\n",
    "    # Split data into train and validation\n",
    "    dataset = TensorDataset(all_input_ids, labels)\n",
    "    train_size = int(ratio * len(dataset))\n",
    "    valid_size = len(dataset) - train_size\n",
    "    train_dataset, valid_dataset = random_split(dataset, [train_size, valid_size])\n",
    "\n",
    "    # Create train and validation dataloaders\n",
    "    train_dataloader = DataLoader(train_dataset, batch_size = batch_size, shuffle = True)\n",
    "    valid_dataloader = DataLoader(valid_dataset, batch_size = batch_size, shuffle = False)\n",
    "    \n",
    "    return train_dataloader, valid_dataloader"
   ]
  },
  {
   "cell_type": "code",
   "execution_count": 73,
   "metadata": {},
   "outputs": [],
   "source": [
    "ratio = 0.8\n",
    "batch_size = 2\n",
    "filename = \"head.tsv\"\n",
    "train_dataloader, valid_dataloader = split_data(ratio, batch_size, filename)"
   ]
  },
  {
   "cell_type": "code",
   "execution_count": 74,
   "metadata": {},
   "outputs": [
    {
     "name": "stdout",
     "output_type": "stream",
     "text": [
      "8\n",
      "2\n"
     ]
    }
   ],
   "source": [
    "print(len(train_dataloader))\n",
    "print(len(valid_dataloader))"
   ]
  },
  {
   "cell_type": "code",
   "execution_count": 75,
   "metadata": {},
   "outputs": [],
   "source": [
    "class Bert(nn.Module):\n",
    "\n",
    "    def __init__(self, config):\n",
    "        super().__init__()\n",
    "        self.output_size = config.output_size\n",
    "        self.bert = config.bert_model\n",
    "        self.dropout = nn.Dropout(config.dropout_prob)\n",
    "        self.classifier = nn.Linear(config.hidden_size, config.output_size)\n",
    "\n",
    "    def forward(self, input_ids, token_type_ids=None, attention_mask=None, labels=None):\n",
    "        print(input_ids.shape)\n",
    "        print(labels.shape)\n",
    "        _, pooled_output = self.bert(input_ids, token_type_ids, attention_mask,)\n",
    "        # pooled_output: [batch_size, dim=768]\n",
    "        pooled_output = self.dropout(pooled_output)\n",
    "        print(pooled_output.shape)\n",
    "        logits = self.classifier(pooled_output)\n",
    "        print(logits.shape)\n",
    "        logits = logits.squeeze(-1)\n",
    "        print(logits.shape)\n",
    "        # logits: [batch_size, output_dim]\n",
    "        if labels is not None:\n",
    "            loss = F.binary_cross_entropy_with_logits(logits, labels)\n",
    "            return loss, logits\n",
    "        else:\n",
    "            return logits"
   ]
  },
  {
   "cell_type": "code",
   "execution_count": 76,
   "metadata": {},
   "outputs": [],
   "source": [
    "class BertConfig:\n",
    "    \"\"\" base GPT config, params common to all GPT versions \"\"\"\n",
    "    dropout_prob = 0.1\n",
    "\n",
    "    def __init__(self, hidden_size, output_size, bert_model, **kwargs):\n",
    "        self.hidden_size = hidden_size\n",
    "        self.output_size = output_size\n",
    "        self.bert_model = bert_model\n",
    "        for k, v in kwargs.items():\n",
    "            setattr(self, k, v)"
   ]
  },
  {
   "cell_type": "code",
   "execution_count": 77,
   "metadata": {},
   "outputs": [],
   "source": [
    "HIDDEN_SIZE = 768\n",
    "OUTPUT_SIZE = 1"
   ]
  },
  {
   "cell_type": "code",
   "execution_count": 78,
   "metadata": {},
   "outputs": [],
   "source": [
    "mconf = BertConfig(HIDDEN_SIZE, OUTPUT_SIZE, bert_model)"
   ]
  },
  {
   "cell_type": "code",
   "execution_count": 79,
   "metadata": {},
   "outputs": [],
   "source": [
    "model = Bert(mconf)"
   ]
  },
  {
   "cell_type": "code",
   "execution_count": 80,
   "metadata": {},
   "outputs": [],
   "source": [
    "# model"
   ]
  },
  {
   "cell_type": "code",
   "execution_count": 81,
   "metadata": {},
   "outputs": [],
   "source": [
    "for par in model.parameters():\n",
    "    par.requires_grad = False\n",
    "model.classifier.weight.requires_grad = True"
   ]
  },
  {
   "cell_type": "code",
   "execution_count": 82,
   "metadata": {},
   "outputs": [
    {
     "name": "stdout",
     "output_type": "stream",
     "text": [
      "Bert : all params: 109.483009M\n",
      "Bert : need grad params: 0.000768M\n"
     ]
    }
   ],
   "source": [
    "print('{} : all params: {:4f}M'.format(model._get_name(), sum(p.numel() for p in model.parameters()) / 1000 / 1000))\n",
    "print('{} : need grad params: {:4f}M'.format(model._get_name(), sum(p.numel() for p in model.parameters() if p.requires_grad) / 1000 / 1000))"
   ]
  },
  {
   "cell_type": "code",
   "execution_count": 83,
   "metadata": {},
   "outputs": [],
   "source": [
    "optimizer = AdamW(model.parameters(), lr=2e-5)\n",
    "epochs = 4\n",
    "total_steps = len(train_dataloader) * epochs\n",
    "scheduler = get_linear_schedule_with_warmup(optimizer, num_warmup_steps=0, num_training_steps=total_steps)"
   ]
  },
  {
   "cell_type": "code",
   "execution_count": 13,
   "metadata": {},
   "outputs": [],
   "source": [
    "for epoch in range(epochs):\n",
    "    model.train()\n",
    "    total_loss, total_val_loss = 0, 0\n",
    "    total_eval_accuracy = 0\n",
    "    for step, batch in enumerate(train_dataloader):\n",
    "        model.zero_grad()\n",
    "        loss, logits = model(batch[0].to(device), token_type_ids=None, attention_mask=None, labels=batch[1].to(device))\n",
    "        total_loss += loss.item()\n",
    "        loss.backward()\n",
    "        torch.nn.utils.clip_grad_norm_(model.parameters(), 1.0)\n",
    "        optimizer.step() \n",
    "        scheduler.step()\n",
    "        \n",
    "    model.eval()\n",
    "    for i, batch in enumerate(valid_dataloader):\n",
    "        with torch.no_grad():\n",
    "            loss, logits = model(batch[0].to(device), token_type_ids=None, attention_mask=None, labels=batch[1].to(device))\n",
    "                \n",
    "            total_val_loss += loss.item()\n",
    "            \n",
    "            logits = logits.detach().cpu().numpy()\n",
    "            label_ids = batch[1].to('cpu').numpy()\n",
    "            total_eval_accuracy += flat_accuracy(logits, label_ids)\n",
    "    avg_train_loss = total_loss / len(train_dataloader)\n",
    "    avg_val_loss = total_val_loss / len(val_dataloader)\n",
    "    avg_val_accuracy = total_eval_accuracy / len(val_dataloader)\n",
    "    \n",
    "    print(f'Train loss     : {avg_train_loss}')\n",
    "    print(f'Validation loss: {avg_val_loss}')\n",
    "    print(f'Accuracy: {avg_val_accuracy:.2f}')\n",
    "    print('\\n')"
   ]
  },
  {
   "cell_type": "code",
   "execution_count": null,
   "metadata": {},
   "outputs": [],
   "source": []
  },
  {
   "cell_type": "code",
   "execution_count": null,
   "metadata": {},
   "outputs": [],
   "source": []
  },
  {
   "cell_type": "code",
   "execution_count": null,
   "metadata": {},
   "outputs": [],
   "source": []
  }
 ],
 "metadata": {
  "kernelspec": {
   "display_name": "tensorflow2.0-pytorch1.4",
   "language": "python",
   "name": "tensorflow2.0-pytorch1.4"
  },
  "language_info": {
   "codemirror_mode": {
    "name": "ipython",
    "version": 3
   },
   "file_extension": ".py",
   "mimetype": "text/x-python",
   "name": "python",
   "nbconvert_exporter": "python",
   "pygments_lexer": "ipython3",
   "version": "3.7.7"
  }
 },
 "nbformat": 4,
 "nbformat_minor": 4
}
