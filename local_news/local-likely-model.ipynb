{
 "cells": [
  {
   "cell_type": "code",
   "execution_count": 1,
   "metadata": {},
   "outputs": [
    {
     "data": {
      "text/plain": [
       "device(type='cuda')"
      ]
     },
     "execution_count": 1,
     "metadata": {},
     "output_type": "execute_result"
    }
   ],
   "source": [
    "import torch\n",
    "import torch.nn as nn\n",
    "import torch.nn.functional as F\n",
    "from torch.utils.data import TensorDataset, DataLoader, random_split\n",
    "import transformers\n",
    "from transformers import BertModel, BertTokenizer\n",
    "from transformers import get_linear_schedule_with_warmup\n",
    "from torchtext.vocab import Vectors\n",
    "import collections\n",
    "from collections import Counter\n",
    "import csv \n",
    "import numpy as np\n",
    "from tqdm import tqdm\n",
    "import math\n",
    "import warnings\n",
    "warnings.filterwarnings('ignore')\n",
    "device = torch.device('cuda' if torch.cuda.is_available() else 'cpu')\n",
    "device"
   ]
  },
  {
   "cell_type": "code",
   "execution_count": 2,
   "metadata": {},
   "outputs": [],
   "source": [
    "# set up logging\n",
    "import logging\n",
    "logging.basicConfig(\n",
    "        format=\"%(asctime)s - %(message)s\",\n",
    "        datefmt=\"%m/%d/%Y %H:%M:%S\",\n",
    "        level=logging.INFO,\n",
    ")\n",
    "logger = logging.getLogger(__name__)"
   ]
  },
  {
   "cell_type": "code",
   "execution_count": 5,
   "metadata": {},
   "outputs": [],
   "source": [
    "model_name = 'bert-base-uncased'\n",
    "tokenizer = BertTokenizer.from_pretrained(model_name)"
   ]
  },
  {
   "cell_type": "code",
   "execution_count": 152,
   "metadata": {},
   "outputs": [],
   "source": [
    "# vectors = Vectors(name='enwiki_100d.txt')"
   ]
  },
  {
   "cell_type": "code",
   "execution_count": 7,
   "metadata": {},
   "outputs": [],
   "source": [
    "class DataProcess():\n",
    "    \n",
    "    def __init__(self, root, text_id_root, entity_id_root, labels_root, entity_vector_root):\n",
    "        self.root = root\n",
    "        self.text_id_root = text_id_root\n",
    "        self.entity_id_root = entity_id_root\n",
    "        self.labels_root = labels_root\n",
    "        self.entity_vector_root = entity_vector_root\n",
    "    \n",
    "    def prepare_data(self):\n",
    "        text_list = []\n",
    "        entity_list= []\n",
    "        label_list = []\n",
    "        with open(self.root, 'r') as f:\n",
    "            reader = csv.reader(f, delimiter='\\t')\n",
    "            for line in reader:\n",
    "                text_list.append(line[0])\n",
    "                entity_list.append(line[1].split('|'))\n",
    "                label_list.append(int(line[2]))\n",
    "        return text_list, entity_list, label_list\n",
    "\n",
    "    # Function to get token ids for a list of texts \n",
    "    def encode_text(self):\n",
    "        text_list, _, label_list = self.prepare_data()\n",
    "        all_input_ids = []    \n",
    "        num = 0\n",
    "        for text in text_list:\n",
    "            num += 1\n",
    "            if num % 10000 == 0:\n",
    "                print(num)\n",
    "            input_ids = tokenizer.encode(\n",
    "                            text,                      \n",
    "                            add_special_tokens = True,             \n",
    "                            truncation=True,\n",
    "                            padding = 'max_length',     \n",
    "                            return_tensors = 'pt'       \n",
    "                       )\n",
    "            all_input_ids.append(input_ids)    \n",
    "        all_input_ids = torch.cat(all_input_ids, dim=0)\n",
    "        labels = torch.tensor(label_list, dtype=torch.float)\n",
    "        # Save tensor\n",
    "        torch.save(all_input_ids, self.text_id_root)\n",
    "        torch.save(labels,self.labels_root)\n",
    "        print(\"Saved success!\")\n",
    "        return all_input_ids, labels\n",
    "    \n",
    "    def encode_entity(self, en_vocab_size, en_pad_size):\n",
    "        _, entity_list, _= self.prepare_data()\n",
    "        # get all entity\n",
    "        entity_list_all = [en for entity in entity_list for en in entity]\n",
    "        # build entity vocab\n",
    "        entity_vocab = collections.OrderedDict(Counter(entity_list_all).most_common(en_vocab_size-2))\n",
    "        entity_list_uniq = [entity for entity in entity_vocab.keys()]\n",
    "        entity_to_index = {entity : i+2 for i, entity in enumerate(entity_list_uniq)}\n",
    "        entity_to_index['<unk>'] = 0\n",
    "        entity_to_index['<pad>'] = 1\n",
    "        entity_to_index = collections.OrderedDict(sorted(entity_to_index.items(), key=lambda entity_to_index: entity_to_index[1]))\n",
    "        index_to_entity = [entity for i, entity in enumerate(entity_to_index)]\n",
    "        # build entity vector\n",
    "        idx_to_vector=[]\n",
    "        print(\"Entity vocab size: \", len(entity_to_index))\n",
    "        for entity in entity_to_index.keys():\n",
    "            if 0 == (vectors[\"ENTITY/\"+entity.replace(' ','_')] == vectors[\"<unk>\"]).sum():\n",
    "                idx_to_vector.append(vectors[\"ENTITY/\"+entity.replace(' ','_')])\n",
    "            else:\n",
    "                idx_to_vector.append(vectors[entity.lower().replace(' ','_')])\n",
    "        entity_vector = torch.stack(idx_to_vector)\n",
    "        torch.save(entity_vector, self.entity_vector_root)\n",
    "        # build entity index\n",
    "        all_entity_ids = []\n",
    "        for entities in entity_list:\n",
    "            entity_ids = [entity_to_index.get(entity, entity_to_index[\"<unk>\"]) for entity in entities][:en_pad_size]\n",
    "            for i in range(en_pad_size - len(entity_ids)):\n",
    "                entity_ids.append(entity_to_index[\"<pad>\"])\n",
    "            all_entity_ids.append(entity_ids)\n",
    "        all_entity_ids = torch.tensor(all_entity_ids)\n",
    "        torch.save(all_entity_ids, self.entity_id_root)\n",
    "        print(\"Saved success!\")\n",
    "        return all_entity_ids, entity_vector, entity_to_index, index_to_entity\n",
    "        \n",
    "    \n",
    "    def load_data(self, ratio, batch_size):\n",
    "        all_input_ids = torch.load(self.text_id_root)\n",
    "        all_entity_ids = torch.load(self.entity_id_root)\n",
    "        labels = torch.load(self.labels_root)\n",
    "        # Split data into train and validation\n",
    "        dataset = TensorDataset(all_input_ids, all_entity_ids, labels)\n",
    "        train_size = int(ratio * len(dataset))\n",
    "        valid_size = len(dataset) - train_size\n",
    "        train_dataset, valid_dataset = random_split(dataset, [train_size, valid_size])\n",
    "\n",
    "        # Create train and validation dataloaders\n",
    "        train_dataloader = DataLoader(train_dataset, batch_size = batch_size, shuffle = True)\n",
    "        valid_dataloader = DataLoader(valid_dataset, batch_size = batch_size, shuffle = False)\n",
    "\n",
    "        return train_dataloader, valid_dataloader"
   ]
  },
  {
   "cell_type": "code",
   "execution_count": 13,
   "metadata": {},
   "outputs": [],
   "source": [
    "ratio = 0.8\n",
    "batch_size = 32\n",
    "en_vocab_size = 200000\n",
    "en_pad_size = 12\n",
    "root = \"data/all_data_1015.tsv\"\n",
    "text_id_root = \"data/text_ids_1015.pt\"\n",
    "entity_id_root = \"data/entity_ids.pt\"\n",
    "labels_root = \"data/labels_1015.pt\"\n",
    "entity_vector_root = \"data/entity_vectors.pt\""
   ]
  },
  {
   "cell_type": "code",
   "execution_count": 14,
   "metadata": {},
   "outputs": [],
   "source": [
    "processor = DataProcess(root, text_id_root, entity_id_root, labels_root, entity_vector_root)"
   ]
  },
  {
   "cell_type": "code",
   "execution_count": 15,
   "metadata": {},
   "outputs": [],
   "source": [
    "# all_input_ids, labels = processor.encode_text()"
   ]
  },
  {
   "cell_type": "code",
   "execution_count": 11,
   "metadata": {},
   "outputs": [
    {
     "name": "stdout",
     "output_type": "stream",
     "text": [
      "Entity vocab size:  200000\n",
      "Saved success!\n"
     ]
    }
   ],
   "source": [
    "all_entity_ids, entity_vector, entity_to_index, index_to_entity = processor.encode_entity(en_vocab_size, en_pad_size)"
   ]
  },
  {
   "cell_type": "code",
   "execution_count": 16,
   "metadata": {},
   "outputs": [],
   "source": [
    "train_dataloader, valid_dataloader = processor.load_data(ratio, batch_size)"
   ]
  },
  {
   "cell_type": "code",
   "execution_count": 17,
   "metadata": {},
   "outputs": [
    {
     "name": "stdout",
     "output_type": "stream",
     "text": [
      "Num of train_dataloader:  4248\n",
      "Num of valid_dataloader:  1062\n"
     ]
    }
   ],
   "source": [
    "print(\"Num of train_dataloader: \", len(train_dataloader))\n",
    "print(\"Num of valid_dataloader: \", len(valid_dataloader))"
   ]
  },
  {
   "cell_type": "code",
   "execution_count": null,
   "metadata": {},
   "outputs": [],
   "source": []
  },
  {
   "cell_type": "code",
   "execution_count": 13,
   "metadata": {},
   "outputs": [],
   "source": [
    "# en_vocab_size = 100\n",
    "# en_pad_size = 12"
   ]
  },
  {
   "cell_type": "code",
   "execution_count": 14,
   "metadata": {},
   "outputs": [],
   "source": [
    "# entity_list_all = [en for entity in entity_list for en in entity]\n",
    "# entity_vocab = collections.OrderedDict(Counter(entity_list_all).most_common(en_vocab_size-2))\n",
    "# # entity_vocab"
   ]
  },
  {
   "cell_type": "code",
   "execution_count": 15,
   "metadata": {},
   "outputs": [],
   "source": [
    "# entity_list_uniq = [entity for entity in entity_vocab.keys()]\n",
    "# entity_to_index = {entity : i+2 for i, entity in enumerate(entity_list_uniq)}\n",
    "# entity_to_index['<unk>'] = 0\n",
    "# entity_to_index['<pad>'] = 1\n",
    "# entity_to_index = collections.OrderedDict(sorted(entity_to_index.items(), key=lambda entity_to_index: entity_to_index[1]))\n",
    "# index_to_entity = [entity for i, entity in enumerate(entity_to_index)]"
   ]
  },
  {
   "cell_type": "code",
   "execution_count": 16,
   "metadata": {},
   "outputs": [],
   "source": [
    "# idx_to_vector=[]\n",
    "# for entity in entity_to_index.keys():\n",
    "#     if 0 == (vectors[\"ENTITY/\"+entity.replace(' ','_')] == vectors[\"<unk>\"]).sum():\n",
    "#         idx_to_vector.append(vectors[\"ENTITY/\"+entity.replace(' ','_')])\n",
    "#     else:\n",
    "#         idx_to_vector.append(vectors[entity.lower().replace(' ','_')])"
   ]
  },
  {
   "cell_type": "code",
   "execution_count": 18,
   "metadata": {},
   "outputs": [],
   "source": [
    "# entity_vector = torch.stack(idx_to_vector)"
   ]
  },
  {
   "cell_type": "code",
   "execution_count": 19,
   "metadata": {},
   "outputs": [],
   "source": [
    "# entity_vector.shape"
   ]
  },
  {
   "cell_type": "code",
   "execution_count": 20,
   "metadata": {},
   "outputs": [],
   "source": [
    "# all_entity_ids = []\n",
    "# for entities in entity_list:\n",
    "#     entity_ids = [entity_to_index.get(entity, entity_to_index[\"<unk>\"]) for entity in entities][:en_pad_size]\n",
    "#     for i in range(en_pad_size - len(entity_ids)):\n",
    "#         entity_ids.append(entity_to_index[\"<pad>\"])\n",
    "#     all_entity_ids.append(entity_ids)\n",
    "# all_entity_ids = torch.tensor(all_entity_ids)"
   ]
  },
  {
   "cell_type": "code",
   "execution_count": 21,
   "metadata": {},
   "outputs": [],
   "source": [
    "# all_entity_ids.shape"
   ]
  },
  {
   "cell_type": "code",
   "execution_count": null,
   "metadata": {},
   "outputs": [],
   "source": []
  },
  {
   "cell_type": "code",
   "execution_count": 180,
   "metadata": {},
   "outputs": [],
   "source": [
    "class Model(nn.Module):\n",
    "\n",
    "    def __init__(self, config):\n",
    "        super().__init__()\n",
    "        self.bert = BertModel.from_pretrained(config.model_name)\n",
    "        self.en_encoder = EntityEncoder(config)\n",
    "        self.dropout = nn.Dropout(config.dropout_prob)\n",
    "        self.fc1 = nn.Linear(self.bert.pooler.dense.weight.shape[0]+self.en_encoder.mlp[2].weight.shape[0], config.fc_hidden_size)\n",
    "        self.fc2 = nn.Linear(config.fc_hidden_size, config.output_size)\n",
    "        \n",
    "        \n",
    "    def configure_optimizers(self, train_config):\n",
    "#         param_optimizer = list(model.named_parameters())  \n",
    "#         no_decay = ['bias', 'LayerNorm.bias', 'LayerNorm.weight']\n",
    "#         optimizer_grouped_parameters = [\n",
    "#                 {'params': [p for n, p in param_optimizer if not any(nd in n for nd in no_decay)], 'weight_decay': train_config.weight_decay},\n",
    "#                 {'params': [p for n, p in param_optimizer if any(nd in n for nd in no_decay)], 'weight_decay': 0.0}]\n",
    "#         optimizer = transformers.AdamW(optimizer_grouped_parameters, lr=train_config.learning_rate, betas=train_config.betas)\n",
    "        optimizer = torch.optim.AdamW(self.parameters(), lr=train_config.learning_rate, betas=train_config.betas)\n",
    "        return optimizer\n",
    "\n",
    "    def forward(self, input_ids, entity_ids=None, labels=None, token_type_ids=None, attention_mask=None):\n",
    "        _, bert_output = self.bert(input_ids, token_type_ids, attention_mask,)\n",
    "        en_encoder_output = self.en_encoder(entity_ids)\n",
    "        x = torch.cat((bert_output, pooled_output),dim=1)\n",
    "        # pooled_output: [batch_size, dim=768]\n",
    "        x = self.dropout(x)\n",
    "        y_pred = self.fc(x).squeeze(-1)\n",
    "        # y_pred: [batch_size, output_dim]\n",
    "        if labels is not None:\n",
    "            loss = F.binary_cross_entropy_with_logits(y_pred, labels)\n",
    "            return y_pred, loss\n",
    "        else:\n",
    "            return y_pred "
   ]
  },
  {
   "cell_type": "code",
   "execution_count": 181,
   "metadata": {},
   "outputs": [],
   "source": [
    "class EntityEncoder(nn.Module):\n",
    "    \"\"\"Construct the embeddings from word, position and token_type embeddings.\"\"\"\n",
    "\n",
    "    def __init__(self, config):\n",
    "        super().__init__()\n",
    "        self.en_embeddings = nn.Embedding(config.en_vocab_size, config.en_embd_dim, padding_idx=config.pad_index)\n",
    "\n",
    "        self.ln1 = nn.LayerNorm(config.en_embd_dim, eps=1e-12)\n",
    "        self.dropout = nn.Dropout(config.dropout_prob)\n",
    "        self.mlp = nn.Sequential(\n",
    "            nn.Linear(config.en_embd_dim, config.en_hidden_size1),\n",
    "            nn.GELU(),\n",
    "            nn.Linear(config.en_hidden_size1, config.en_hidden_size2),\n",
    "            nn.Dropout(config.dropout_prob),\n",
    "        )\n",
    "        self.avgpool = torch.nn.AvgPool1d(config.en_pad_size)\n",
    "        self.ln2 = nn.LayerNorm(config.en_hidden_size2, eps=1e-12)\n",
    "\n",
    "    def forward(self, input_ids):\n",
    "        input_shape = input_ids.size()\n",
    "        embeddings = self.en_embeddings(input_ids)\n",
    "        \n",
    "        x = self.ln1(embeddings)\n",
    "        x = self.dropout(x)\n",
    "        \n",
    "        x = self.mlp(embeddings).transpose(1,2)\n",
    "        x = self.avgpool(x).squeeze(-1)\n",
    "        x = self.ln2(x)\n",
    "        \n",
    "        return x"
   ]
  },
  {
   "cell_type": "code",
   "execution_count": 182,
   "metadata": {},
   "outputs": [],
   "source": [
    "class ModelConfig:\n",
    "    \"\"\" base GPT config, params common to all GPT versions \"\"\"\n",
    "    dropout_prob = 0.1\n",
    "    \n",
    "    def __init__(self, output_size, model_name, en_vocab_size, en_embd_dim, en_hidden_size1, en_hidden_size2, en_pad_size, pad_index, **kwargs):\n",
    "        self.output_size = output_size\n",
    "        self.model_name = model_name\n",
    "        self.en_vocab_size = en_vocab_size\n",
    "        self.en_embd_dim = en_embd_dim\n",
    "        self.en_hidden_size1 = en_hidden_size1\n",
    "        self.en_hidden_size2 = en_hidden_size2\n",
    "        self.en_pad_size = en_pad_size\n",
    "        self.pad_index = pad_index\n",
    "        for k, v in kwargs.items():\n",
    "            setattr(self, k, v)"
   ]
  },
  {
   "cell_type": "code",
   "execution_count": 183,
   "metadata": {},
   "outputs": [],
   "source": [
    "class Trainer:\n",
    "\n",
    "    def __init__(self, model, train_loader, test_loader, config):\n",
    "        self.model = model\n",
    "        self.train_loader = train_loader\n",
    "        self.test_loader = test_loader\n",
    "        self.config = config\n",
    "\n",
    "        # take over whatever gpus are on the system\n",
    "        self.device = 'cpu'\n",
    "        if torch.cuda.is_available():\n",
    "            self.device = torch.cuda.current_device()\n",
    "            self.model = torch.nn.DataParallel(self.model).to(self.device)\n",
    "\n",
    "    def save_checkpoint(self):\n",
    "        # DataParallel wrappers keep raw model object in .module attribute\n",
    "        raw_model = self.model.module if hasattr(self.model, \"module\") else self.model\n",
    "        logger.info(\"saving %s\", self.config.ckpt_path)\n",
    "        torch.save(raw_model.state_dict(), self.config.ckpt_path)\n",
    "        \n",
    "    def binary_accuracy(self, preds, y):\n",
    "        rounded_preds = torch.round(torch.sigmoid(preds))\n",
    "        correct = (rounded_preds == y).float()\n",
    "        acc = correct.sum() / len(correct)\n",
    "        return acc\n",
    "\n",
    "    def train(self):\n",
    "        model, config = self.model, self.config\n",
    "        raw_model = model.module if hasattr(self.model, \"module\") else model\n",
    "        optimizer = raw_model.configure_optimizers(config)\n",
    "\n",
    "        def run_epoch(split):\n",
    "            is_train = split == 'train'\n",
    "            model.train(is_train)\n",
    "            loader = self.train_loader if is_train else self.test_loader\n",
    "            \n",
    "            losses = []\n",
    "            all_y = []\n",
    "            all_y_pred = []\n",
    "            pbar = tqdm(enumerate(loader), total=len(loader)) if is_train else enumerate(loader)\n",
    "            for it, (text_ids, entity_ids, y) in pbar:\n",
    "                # place data on the correct device\n",
    "                text_ids = text_ids.to(self.device)\n",
    "                entity_ids = entity_ids.to(device)\n",
    "                y = y.to(self.device)\n",
    "                # forward the model\n",
    "                with torch.set_grad_enabled(is_train):\n",
    "                    y_pred, loss = model(text_ids, entity_ids, y)\n",
    "                    loss = loss.mean() # collapse all losses if they are scattered on multiple gpus\n",
    "                    losses.append(loss.item())\n",
    "                    step_score = self.binary_accuracy(y_pred, y)\n",
    "                    all_y.extend(y)\n",
    "                    all_y_pred.extend(y_pred)\n",
    "                \n",
    "                if is_train:\n",
    "\n",
    "                    # backprop and update the parameters\n",
    "                    model.zero_grad()\n",
    "                    loss.backward()\n",
    "                    torch.nn.utils.clip_grad_norm_(model.parameters(), config.grad_norm_clip)\n",
    "                    optimizer.step()\n",
    "\n",
    "                    # decay the learning rate based on our progress\n",
    "                    if config.lr_decay:\n",
    "                        self.tokens += (y >= 0).sum() # number of tokens processed this step (i.e. label is not -100)\n",
    "                        if self.tokens < config.warmup_tokens:\n",
    "                            # linear warmup\n",
    "                            lr_mult = float(self.tokens) / float(max(1, config.warmup_tokens))\n",
    "                        else:\n",
    "                            # cosine learning rate decay\n",
    "                            progress = float(self.tokens - config.warmup_tokens) / float(max(1, config.final_tokens - config.warmup_tokens))\n",
    "                            lr_mult = max(0.1, 0.5 * (1.0 + math.cos(math.pi * progress)))\n",
    "                        lr = config.learning_rate * lr_mult\n",
    "                        for param_group in optimizer.param_groups:\n",
    "                            param_group['lr'] = lr\n",
    "                    else:\n",
    "                        lr = config.learning_rate\n",
    "\n",
    "                    # report progress\n",
    "                    pbar.set_description(f\"epoch {epoch+1} iter {it}: train loss {loss.item():.5f}. score {step_score:.5f}. lr {lr:e}\")\n",
    "\n",
    "            if not is_train:\n",
    "                test_loss = float(np.mean(losses))\n",
    "                all_y = torch.stack(all_y, dim=0)\n",
    "                all_y_pred = torch.stack(all_y_pred, dim=0)\n",
    "                test_score = self.binary_accuracy(all_y_pred, all_y)\n",
    "                logger.info(\"test loss: %f\", test_loss)\n",
    "                logger.info(\"test score: %f\", test_score)\n",
    "                return test_loss\n",
    "\n",
    "        self.tokens = 0 # counter used for learning rate decay\n",
    "        best_loss = float('inf')\n",
    "#         best_loss = run_epoch('test')\n",
    "        for epoch in range(config.max_epochs):\n",
    "\n",
    "            run_epoch('train')\n",
    "            if self.test_loader is not None:\n",
    "                test_loss = run_epoch('test')\n",
    "\n",
    "            # supports early stopping based on the test loss, or just save always if no test set is provided\n",
    "            good_model = self.test_loader is None or test_loss < best_loss\n",
    "            if self.config.ckpt_path is not None and good_model:\n",
    "                best_loss = test_loss\n",
    "                self.save_checkpoint()"
   ]
  },
  {
   "cell_type": "code",
   "execution_count": 184,
   "metadata": {},
   "outputs": [],
   "source": [
    "class TrainerConfig:\n",
    "    # optimization parameters\n",
    "    max_epochs = 10\n",
    "    learning_rate = 3e-4\n",
    "    betas = (0.9, 0.95)\n",
    "    grad_norm_clip = 1.0\n",
    "    weight_decay = 0.1 # only applied on matmul weights\n",
    "    # learning rate decay params: linear warmup followed by cosine decay to 10% of original\n",
    "    lr_decay = False\n",
    "    warmup_tokens = 375e6 # these two numbers come from the GPT-3 paper, but may not be good defaults elsewhere\n",
    "    final_tokens = 260e9 # (at what point we reach 10% of original LR)\n",
    "    # checkpoint settings\n",
    "    ckpt_path = 'local-likely-model.pt'\n",
    "    num_workers = 0 # for DataLoader\n",
    "\n",
    "    def __init__(self, **kwargs):\n",
    "        for k,v in kwargs.items():\n",
    "            print(k,v)\n",
    "            setattr(self, k, v)"
   ]
  },
  {
   "cell_type": "code",
   "execution_count": 185,
   "metadata": {},
   "outputs": [],
   "source": [
    "output_size = 1\n",
    "en_embd_dim = 100\n",
    "en_hidden_size1 = 128\n",
    "en_hidden_size2 = 256\n",
    "pad_index = 0"
   ]
  },
  {
   "cell_type": "code",
   "execution_count": 186,
   "metadata": {},
   "outputs": [],
   "source": [
    "mconf = ModelConfig(output_size, model_name, en_vocab_size, en_embd_dim, en_hidden_size1, \n",
    "                    en_hidden_size2, en_pad_size, pad_index,fc_hidden_size=512)"
   ]
  },
  {
   "cell_type": "code",
   "execution_count": 187,
   "metadata": {},
   "outputs": [],
   "source": [
    "model = Model(mconf)"
   ]
  },
  {
   "cell_type": "code",
   "execution_count": null,
   "metadata": {},
   "outputs": [],
   "source": [
    "model"
   ]
  },
  {
   "cell_type": "code",
   "execution_count": 128,
   "metadata": {},
   "outputs": [],
   "source": [
    "for par in model.bert.embeddings.parameters():\n",
    "    par.requires_grad = False\n",
    "for par in model.bert.encoder.layer[:11].parameters():\n",
    "    par.requires_grad = False"
   ]
  },
  {
   "cell_type": "code",
   "execution_count": 129,
   "metadata": {},
   "outputs": [],
   "source": [
    "model.en_encoder.en_embeddings.weight.data.copy_(torch.load(entity_vector_root))\n",
    "model.en_encoder.en_embeddings.weight.requires_grad = False"
   ]
  },
  {
   "cell_type": "code",
   "execution_count": 130,
   "metadata": {},
   "outputs": [
    {
     "name": "stdout",
     "output_type": "stream",
     "text": [
      "Model : all params: 129.529929M\n",
      "Model : need grad params: 7.726153M\n"
     ]
    }
   ],
   "source": [
    "print('{} : all params: {:4f}M'.format(model._get_name(), sum(p.numel() for p in model.parameters()) / 1000 / 1000))\n",
    "print('{} : need grad params: {:4f}M'.format(model._get_name(), sum(p.numel() for p in model.parameters() if p.requires_grad) / 1000 / 1000))"
   ]
  },
  {
   "cell_type": "code",
   "execution_count": 131,
   "metadata": {},
   "outputs": [
    {
     "name": "stdout",
     "output_type": "stream",
     "text": [
      "max_epochs 2\n",
      "learning_rate 0.0006\n",
      "lr_decay True\n",
      "warmup_tokens 6400\n",
      "final_tokens 271872\n",
      "num_workers 1\n"
     ]
    }
   ],
   "source": [
    "tconf = TrainerConfig(max_epochs=2, learning_rate=6e-4, lr_decay=True, \n",
    "                      warmup_tokens=32*200, final_tokens=2*batch_size*len(train_dataloader),\n",
    "                      num_workers=1)"
   ]
  },
  {
   "cell_type": "code",
   "execution_count": 132,
   "metadata": {},
   "outputs": [],
   "source": [
    "trainer = Trainer(model, train_dataloader, valid_dataloader, tconf)"
   ]
  },
  {
   "cell_type": "code",
   "execution_count": 133,
   "metadata": {},
   "outputs": [
    {
     "name": "stderr",
     "output_type": "stream",
     "text": [
      "epoch 1 iter 4247: train loss 0.08797. score 0.94444. lr 3.114076e-04: 100%|██████████| 4248/4248 [45:44<00:00,  1.55it/s]\n",
      "10/19/2020 12:07:26 - test loss: 0.122334\n",
      "10/19/2020 12:07:26 - test score: 0.956888\n",
      "10/19/2020 12:07:26 - saving local-likely-model.pt\n",
      "epoch 2 iter 4247: train loss 0.11281. score 0.94444. lr 6.000000e-05: 100%|██████████| 4248/4248 [45:38<00:00,  1.55it/s]\n",
      "10/19/2020 13:02:30 - test loss: 0.107255\n",
      "10/19/2020 13:02:30 - test score: 0.963185\n",
      "10/19/2020 13:02:30 - saving local-likely-model.pt\n"
     ]
    }
   ],
   "source": [
    "trainer.train()"
   ]
  },
  {
   "cell_type": "code",
   "execution_count": 134,
   "metadata": {},
   "outputs": [],
   "source": [
    "class Predict:\n",
    "    \n",
    "    def __init__(self, model):\n",
    "        self.model = model.to(device)\n",
    "    \n",
    "    def predict(self, text, entities):\n",
    "        input_ids = tokenizer.encode(\n",
    "                        text,                      \n",
    "                        add_special_tokens = True,             \n",
    "                        truncation=True,\n",
    "                        padding = 'max_length',     \n",
    "                        return_tensors = 'pt'       \n",
    "                   ).to(device)\n",
    "        \n",
    "        entity_ids = [entity_to_index.get(entity, entity_to_index[\"<unk>\"]) for entity in entities][:en_pad_size]\n",
    "        for i in range(en_pad_size - len(entity_ids)):\n",
    "            entity_ids.append(entity_to_index[\"<pad>\"])\n",
    "        entity_ids = torch.tensor(entity_ids).unsqueeze(0).to(device)\n",
    "        self.model.eval()\n",
    "        pred = torch.sigmoid(self.model(input_ids, entity_ids)[0])\n",
    "        return pred.item()\n",
    "    \n",
    "    def count_acc(self, text_list, local):\n",
    "        result = []\n",
    "        for text in text_list:\n",
    "            result.append(self.predict(text))\n",
    "        result = torch.tensor(result, dtype = torch.float)\n",
    "        if local:\n",
    "            acc = sum(result > 0.5).item()/len(result)\n",
    "        else:\n",
    "            acc = sum(result < 0.5).item()/len(result)\n",
    "        return result, acc\n",
    "        "
   ]
  },
  {
   "cell_type": "code",
   "execution_count": 135,
   "metadata": {},
   "outputs": [],
   "source": [
    "predict = Predict(model)"
   ]
  },
  {
   "cell_type": "code",
   "execution_count": 136,
   "metadata": {},
   "outputs": [],
   "source": [
    "test_text_list = []\n",
    "test_entity_list = []\n",
    "with open('data/test_data_1k.tsv') as f:\n",
    "    reader= csv.reader(f, delimiter='\\t')\n",
    "    for line in reader:\n",
    "        test_text_list.append(line[0])\n",
    "        test_entity_list.append(line[1].split('|'))"
   ]
  },
  {
   "cell_type": "code",
   "execution_count": 137,
   "metadata": {},
   "outputs": [],
   "source": [
    "# test_text_list[:2]"
   ]
  },
  {
   "cell_type": "code",
   "execution_count": 139,
   "metadata": {},
   "outputs": [],
   "source": [
    "# model_predict = []\n",
    "# for text, entities in zip(test_text_list,test_entity_list):\n",
    "#     prob = predict.predict(text,entities)\n",
    "#     model_predict.append(prob)"
   ]
  },
  {
   "cell_type": "code",
   "execution_count": 142,
   "metadata": {},
   "outputs": [
    {
     "name": "stdout",
     "output_type": "stream",
     "text": [
      "999\n"
     ]
    }
   ],
   "source": [
    "print(len(model_predict))\n",
    "fout = open('model-predict.tsv','w')\n",
    "for prob in model_predict:\n",
    "    fout.write('{}\\n'.format(prob))"
   ]
  },
  {
   "cell_type": "code",
   "execution_count": null,
   "metadata": {},
   "outputs": [],
   "source": []
  },
  {
   "cell_type": "code",
   "execution_count": null,
   "metadata": {},
   "outputs": [],
   "source": []
  },
  {
   "cell_type": "code",
   "execution_count": null,
   "metadata": {},
   "outputs": [],
   "source": []
  }
 ],
 "metadata": {
  "kernelspec": {
   "display_name": "Python 3",
   "language": "python",
   "name": "python3"
  },
  "language_info": {
   "codemirror_mode": {
    "name": "ipython",
    "version": 3
   },
   "file_extension": ".py",
   "mimetype": "text/x-python",
   "name": "python",
   "nbconvert_exporter": "python",
   "pygments_lexer": "ipython3",
   "version": "3.7.7"
  }
 },
 "nbformat": 4,
 "nbformat_minor": 4
}
